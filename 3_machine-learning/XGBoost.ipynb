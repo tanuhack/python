{
 "cells": [
  {
   "cell_type": "markdown",
   "metadata": {},
   "source": [
    "## 二値分類"
   ]
  },
  {
   "cell_type": "markdown",
   "metadata": {},
   "source": [
    "### モジュールとサンプルデータを読み込む"
   ]
  },
  {
   "cell_type": "code",
   "execution_count": 1,
   "metadata": {},
   "outputs": [
    {
     "name": "stdout",
     "output_type": "stream",
     "text": [
      "df.shape                    : (569, 31)\n",
      "df[\"target\"].value_counts() : {0: 212, 1: 357}\n"
     ]
    },
    {
     "data": {
      "text/html": [
       "<div>\n",
       "<style scoped>\n",
       "    .dataframe tbody tr th:only-of-type {\n",
       "        vertical-align: middle;\n",
       "    }\n",
       "\n",
       "    .dataframe tbody tr th {\n",
       "        vertical-align: top;\n",
       "    }\n",
       "\n",
       "    .dataframe thead th {\n",
       "        text-align: right;\n",
       "    }\n",
       "</style>\n",
       "<table border=\"1\" class=\"dataframe\">\n",
       "  <thead>\n",
       "    <tr style=\"text-align: right;\">\n",
       "      <th></th>\n",
       "      <th>mean radius</th>\n",
       "      <th>mean texture</th>\n",
       "      <th>mean perimeter</th>\n",
       "      <th>mean area</th>\n",
       "      <th>mean smoothness</th>\n",
       "      <th>mean compactness</th>\n",
       "      <th>mean concavity</th>\n",
       "      <th>mean concave points</th>\n",
       "      <th>mean symmetry</th>\n",
       "      <th>mean fractal dimension</th>\n",
       "      <th>radius error</th>\n",
       "      <th>texture error</th>\n",
       "      <th>perimeter error</th>\n",
       "      <th>area error</th>\n",
       "      <th>smoothness error</th>\n",
       "      <th>compactness error</th>\n",
       "      <th>concavity error</th>\n",
       "      <th>concave points error</th>\n",
       "      <th>symmetry error</th>\n",
       "      <th>fractal dimension error</th>\n",
       "      <th>worst radius</th>\n",
       "      <th>worst texture</th>\n",
       "      <th>worst perimeter</th>\n",
       "      <th>worst area</th>\n",
       "      <th>worst smoothness</th>\n",
       "      <th>worst compactness</th>\n",
       "      <th>worst concavity</th>\n",
       "      <th>worst concave points</th>\n",
       "      <th>worst symmetry</th>\n",
       "      <th>worst fractal dimension</th>\n",
       "      <th>target</th>\n",
       "    </tr>\n",
       "  </thead>\n",
       "  <tbody>\n",
       "    <tr>\n",
       "      <th>0</th>\n",
       "      <td>17.99</td>\n",
       "      <td>10.38</td>\n",
       "      <td>122.80</td>\n",
       "      <td>1001.0</td>\n",
       "      <td>0.11840</td>\n",
       "      <td>0.27760</td>\n",
       "      <td>0.3001</td>\n",
       "      <td>0.14710</td>\n",
       "      <td>0.2419</td>\n",
       "      <td>0.07871</td>\n",
       "      <td>1.0950</td>\n",
       "      <td>0.9053</td>\n",
       "      <td>8.589</td>\n",
       "      <td>153.40</td>\n",
       "      <td>0.006399</td>\n",
       "      <td>0.04904</td>\n",
       "      <td>0.05373</td>\n",
       "      <td>0.01587</td>\n",
       "      <td>0.03003</td>\n",
       "      <td>0.006193</td>\n",
       "      <td>25.38</td>\n",
       "      <td>17.33</td>\n",
       "      <td>184.60</td>\n",
       "      <td>2019.0</td>\n",
       "      <td>0.1622</td>\n",
       "      <td>0.6656</td>\n",
       "      <td>0.7119</td>\n",
       "      <td>0.2654</td>\n",
       "      <td>0.4601</td>\n",
       "      <td>0.11890</td>\n",
       "      <td>0</td>\n",
       "    </tr>\n",
       "    <tr>\n",
       "      <th>1</th>\n",
       "      <td>20.57</td>\n",
       "      <td>17.77</td>\n",
       "      <td>132.90</td>\n",
       "      <td>1326.0</td>\n",
       "      <td>0.08474</td>\n",
       "      <td>0.07864</td>\n",
       "      <td>0.0869</td>\n",
       "      <td>0.07017</td>\n",
       "      <td>0.1812</td>\n",
       "      <td>0.05667</td>\n",
       "      <td>0.5435</td>\n",
       "      <td>0.7339</td>\n",
       "      <td>3.398</td>\n",
       "      <td>74.08</td>\n",
       "      <td>0.005225</td>\n",
       "      <td>0.01308</td>\n",
       "      <td>0.01860</td>\n",
       "      <td>0.01340</td>\n",
       "      <td>0.01389</td>\n",
       "      <td>0.003532</td>\n",
       "      <td>24.99</td>\n",
       "      <td>23.41</td>\n",
       "      <td>158.80</td>\n",
       "      <td>1956.0</td>\n",
       "      <td>0.1238</td>\n",
       "      <td>0.1866</td>\n",
       "      <td>0.2416</td>\n",
       "      <td>0.1860</td>\n",
       "      <td>0.2750</td>\n",
       "      <td>0.08902</td>\n",
       "      <td>0</td>\n",
       "    </tr>\n",
       "    <tr>\n",
       "      <th>2</th>\n",
       "      <td>19.69</td>\n",
       "      <td>21.25</td>\n",
       "      <td>130.00</td>\n",
       "      <td>1203.0</td>\n",
       "      <td>0.10960</td>\n",
       "      <td>0.15990</td>\n",
       "      <td>0.1974</td>\n",
       "      <td>0.12790</td>\n",
       "      <td>0.2069</td>\n",
       "      <td>0.05999</td>\n",
       "      <td>0.7456</td>\n",
       "      <td>0.7869</td>\n",
       "      <td>4.585</td>\n",
       "      <td>94.03</td>\n",
       "      <td>0.006150</td>\n",
       "      <td>0.04006</td>\n",
       "      <td>0.03832</td>\n",
       "      <td>0.02058</td>\n",
       "      <td>0.02250</td>\n",
       "      <td>0.004571</td>\n",
       "      <td>23.57</td>\n",
       "      <td>25.53</td>\n",
       "      <td>152.50</td>\n",
       "      <td>1709.0</td>\n",
       "      <td>0.1444</td>\n",
       "      <td>0.4245</td>\n",
       "      <td>0.4504</td>\n",
       "      <td>0.2430</td>\n",
       "      <td>0.3613</td>\n",
       "      <td>0.08758</td>\n",
       "      <td>0</td>\n",
       "    </tr>\n",
       "    <tr>\n",
       "      <th>3</th>\n",
       "      <td>11.42</td>\n",
       "      <td>20.38</td>\n",
       "      <td>77.58</td>\n",
       "      <td>386.1</td>\n",
       "      <td>0.14250</td>\n",
       "      <td>0.28390</td>\n",
       "      <td>0.2414</td>\n",
       "      <td>0.10520</td>\n",
       "      <td>0.2597</td>\n",
       "      <td>0.09744</td>\n",
       "      <td>0.4956</td>\n",
       "      <td>1.1560</td>\n",
       "      <td>3.445</td>\n",
       "      <td>27.23</td>\n",
       "      <td>0.009110</td>\n",
       "      <td>0.07458</td>\n",
       "      <td>0.05661</td>\n",
       "      <td>0.01867</td>\n",
       "      <td>0.05963</td>\n",
       "      <td>0.009208</td>\n",
       "      <td>14.91</td>\n",
       "      <td>26.50</td>\n",
       "      <td>98.87</td>\n",
       "      <td>567.7</td>\n",
       "      <td>0.2098</td>\n",
       "      <td>0.8663</td>\n",
       "      <td>0.6869</td>\n",
       "      <td>0.2575</td>\n",
       "      <td>0.6638</td>\n",
       "      <td>0.17300</td>\n",
       "      <td>0</td>\n",
       "    </tr>\n",
       "    <tr>\n",
       "      <th>4</th>\n",
       "      <td>20.29</td>\n",
       "      <td>14.34</td>\n",
       "      <td>135.10</td>\n",
       "      <td>1297.0</td>\n",
       "      <td>0.10030</td>\n",
       "      <td>0.13280</td>\n",
       "      <td>0.1980</td>\n",
       "      <td>0.10430</td>\n",
       "      <td>0.1809</td>\n",
       "      <td>0.05883</td>\n",
       "      <td>0.7572</td>\n",
       "      <td>0.7813</td>\n",
       "      <td>5.438</td>\n",
       "      <td>94.44</td>\n",
       "      <td>0.011490</td>\n",
       "      <td>0.02461</td>\n",
       "      <td>0.05688</td>\n",
       "      <td>0.01885</td>\n",
       "      <td>0.01756</td>\n",
       "      <td>0.005115</td>\n",
       "      <td>22.54</td>\n",
       "      <td>16.67</td>\n",
       "      <td>152.20</td>\n",
       "      <td>1575.0</td>\n",
       "      <td>0.1374</td>\n",
       "      <td>0.2050</td>\n",
       "      <td>0.4000</td>\n",
       "      <td>0.1625</td>\n",
       "      <td>0.2364</td>\n",
       "      <td>0.07678</td>\n",
       "      <td>0</td>\n",
       "    </tr>\n",
       "  </tbody>\n",
       "</table>\n",
       "</div>"
      ],
      "text/plain": [
       "   mean radius  mean texture  mean perimeter  mean area  mean smoothness  \\\n",
       "0        17.99         10.38          122.80     1001.0          0.11840   \n",
       "1        20.57         17.77          132.90     1326.0          0.08474   \n",
       "2        19.69         21.25          130.00     1203.0          0.10960   \n",
       "3        11.42         20.38           77.58      386.1          0.14250   \n",
       "4        20.29         14.34          135.10     1297.0          0.10030   \n",
       "\n",
       "   mean compactness  mean concavity  mean concave points  mean symmetry  \\\n",
       "0           0.27760          0.3001              0.14710         0.2419   \n",
       "1           0.07864          0.0869              0.07017         0.1812   \n",
       "2           0.15990          0.1974              0.12790         0.2069   \n",
       "3           0.28390          0.2414              0.10520         0.2597   \n",
       "4           0.13280          0.1980              0.10430         0.1809   \n",
       "\n",
       "   mean fractal dimension  radius error  texture error  perimeter error  \\\n",
       "0                 0.07871        1.0950         0.9053            8.589   \n",
       "1                 0.05667        0.5435         0.7339            3.398   \n",
       "2                 0.05999        0.7456         0.7869            4.585   \n",
       "3                 0.09744        0.4956         1.1560            3.445   \n",
       "4                 0.05883        0.7572         0.7813            5.438   \n",
       "\n",
       "   area error  smoothness error  compactness error  concavity error  \\\n",
       "0      153.40          0.006399            0.04904          0.05373   \n",
       "1       74.08          0.005225            0.01308          0.01860   \n",
       "2       94.03          0.006150            0.04006          0.03832   \n",
       "3       27.23          0.009110            0.07458          0.05661   \n",
       "4       94.44          0.011490            0.02461          0.05688   \n",
       "\n",
       "   concave points error  symmetry error  fractal dimension error  \\\n",
       "0               0.01587         0.03003                 0.006193   \n",
       "1               0.01340         0.01389                 0.003532   \n",
       "2               0.02058         0.02250                 0.004571   \n",
       "3               0.01867         0.05963                 0.009208   \n",
       "4               0.01885         0.01756                 0.005115   \n",
       "\n",
       "   worst radius  worst texture  worst perimeter  worst area  worst smoothness  \\\n",
       "0         25.38          17.33           184.60      2019.0            0.1622   \n",
       "1         24.99          23.41           158.80      1956.0            0.1238   \n",
       "2         23.57          25.53           152.50      1709.0            0.1444   \n",
       "3         14.91          26.50            98.87       567.7            0.2098   \n",
       "4         22.54          16.67           152.20      1575.0            0.1374   \n",
       "\n",
       "   worst compactness  worst concavity  worst concave points  worst symmetry  \\\n",
       "0             0.6656           0.7119                0.2654          0.4601   \n",
       "1             0.1866           0.2416                0.1860          0.2750   \n",
       "2             0.4245           0.4504                0.2430          0.3613   \n",
       "3             0.8663           0.6869                0.2575          0.6638   \n",
       "4             0.2050           0.4000                0.1625          0.2364   \n",
       "\n",
       "   worst fractal dimension  target  \n",
       "0                  0.11890       0  \n",
       "1                  0.08902       0  \n",
       "2                  0.08758       0  \n",
       "3                  0.17300       0  \n",
       "4                  0.07678       0  "
      ]
     },
     "execution_count": 1,
     "metadata": {},
     "output_type": "execute_result"
    }
   ],
   "source": [
    "import numpy as np\n",
    "import pandas as pd\n",
    "import matplotlib as mpl\n",
    "import matplotlib.pyplot as plt\n",
    "import xgboost as xgb\n",
    "\n",
    "# 初期設定\n",
    "pd.set_option('display.max_columns', None)\n",
    "%matplotlib inline\n",
    "\n",
    "# サンプルデータセットを読み込む\n",
    "from sklearn.datasets import load_breast_cancer\n",
    "\n",
    "cancer = load_breast_cancer()\n",
    "df = pd.DataFrame(data=cancer.data, columns=cancer.feature_names)\n",
    "df['target'] = cancer.target\n",
    "print(f'df.shape                    : {df.shape}')\n",
    "print(f'df[\"target\"].value_counts() : {df[\"target\"].value_counts().sort_index().to_dict()}')\n",
    "\n",
    "df.head()"
   ]
  },
  {
   "cell_type": "markdown",
   "metadata": {},
   "source": [
    "### 特徴量と目的変数に分割"
   ]
  },
  {
   "cell_type": "code",
   "execution_count": 2,
   "metadata": {},
   "outputs": [
    {
     "name": "stdout",
     "output_type": "stream",
     "text": [
      "X.shape  : (569, 30)\n",
      "y.shape  : (569,)\n",
      "features : ['mean radius', 'mean texture', 'mean perimeter', 'mean area', 'mean smoothness', 'mean compactness', 'mean concavity', 'mean concave points', 'mean symmetry', 'mean fractal dimension', 'radius error', 'texture error', 'perimeter error', 'area error', 'smoothness error', 'compactness error', 'concavity error', 'concave points error', 'symmetry error', 'fractal dimension error', 'worst radius', 'worst texture', 'worst perimeter', 'worst area', 'worst smoothness', 'worst compactness', 'worst concavity', 'worst concave points', 'worst symmetry', 'worst fractal dimension']\n",
      "target   : target\n"
     ]
    }
   ],
   "source": [
    "X = df.drop(columns='target')\n",
    "y = df['target']\n",
    "print(f'X.shape  : {X.shape}')\n",
    "print(f'y.shape  : {y.shape}')\n",
    "\n",
    "features = X.columns.to_list()\n",
    "target = y.name\n",
    "print(f'features : {features}')\n",
    "print(f'target   : {target}')"
   ]
  },
  {
   "cell_type": "markdown",
   "metadata": {},
   "source": [
    "### 訓練、テスト、バリデーション用に分割"
   ]
  },
  {
   "cell_type": "code",
   "execution_count": 3,
   "metadata": {},
   "outputs": [
    {
     "name": "stdout",
     "output_type": "stream",
     "text": [
      "df.shape      : (569, 31)\n",
      "train_x.shape : (364, 30)\n",
      "train_y.shape : (364,)\n",
      "valid_x.shape : (91, 30)\n",
      "valid_y.shape : (91,)\n",
      "test_x.shape  : (114, 30)\n",
      "test_y.shape  : (114,)\n"
     ]
    }
   ],
   "source": [
    "from sklearn.model_selection import train_test_split\n",
    "\n",
    "seed = 42\n",
    "train_x, test_x, train_y, test_y = train_test_split(X,\n",
    "                                                    y,\n",
    "                                                    test_size=0.2,\n",
    "                                                    random_state=seed,\n",
    "                                                    stratify=y)\n",
    "train_x, valid_x, train_y, valid_y = train_test_split(train_x,\n",
    "                                                      train_y,\n",
    "                                                      test_size=0.2,\n",
    "                                                      random_state=seed,\n",
    "                                                      stratify=train_y)\n",
    "\n",
    "print(f'df.shape      : {df.shape}')\n",
    "print(f'train_x.shape : {train_x.shape}')\n",
    "print(f'train_y.shape : {train_y.shape}')\n",
    "print(f'valid_x.shape : {valid_x.shape}')\n",
    "print(f'valid_y.shape : {valid_y.shape}')\n",
    "print(f'test_x.shape  : {test_x.shape}')\n",
    "print(f'test_y.shape  : {test_y.shape}')"
   ]
  },
  {
   "cell_type": "markdown",
   "metadata": {},
   "source": [
    "### XGBoostのデータ構造に変換"
   ]
  },
  {
   "cell_type": "code",
   "execution_count": 4,
   "metadata": {},
   "outputs": [],
   "source": [
    "from sklearn.utils.class_weight import compute_sample_weight\n",
    "\n",
    "dtrain = xgb.DMatrix(train_x, label=train_y, weight=compute_sample_weight('balanced', train_y))\n",
    "dvalid = xgb.DMatrix(valid_x, label=valid_y, weight=compute_sample_weight('balanced', valid_y))\n",
    "dtest = xgb.DMatrix(test_x, label=test_y, weight=compute_sample_weight('balanced', test_y))"
   ]
  },
  {
   "cell_type": "markdown",
   "metadata": {},
   "source": [
    "### ハイパーパラメータの設定"
   ]
  },
  {
   "cell_type": "code",
   "execution_count": 5,
   "metadata": {},
   "outputs": [],
   "source": [
    "params = {\n",
    "    'objective': 'binary:logistic', # 二値分類問題(出力確率)\n",
    "    'eval_metric': 'logloss',       # 学習用の指標(logloss)\n",
    "}\n",
    "num_round = 500                     # 決定木の本数"
   ]
  },
  {
   "cell_type": "markdown",
   "metadata": {},
   "source": [
    "### 学習の実行"
   ]
  },
  {
   "cell_type": "code",
   "execution_count": 6,
   "metadata": {},
   "outputs": [
    {
     "name": "stdout",
     "output_type": "stream",
     "text": [
      "最適な決定木の本数: 14\n"
     ]
    }
   ],
   "source": [
    "evals = [(dtrain, 'train'), (dvalid, 'eval')] # 学習に用いる検証用データ\n",
    "evals_result = {}                             # 学習の経過を保存する箱\n",
    "\n",
    "model = xgb.train(params,\n",
    "                  dtrain,\n",
    "                  num_round,\n",
    "                  evals=evals,\n",
    "                  evals_result=evals_result,\n",
    "                  verbose_eval=0,             # 学習の経過の表示\n",
    "                  early_stopping_rounds=20,   # アーリーストッピング         \n",
    "                 )\n",
    "\n",
    "ntree = model.best_ntree_limit\n",
    "print(f'最適な決定木の本数: {ntree}')"
   ]
  },
  {
   "cell_type": "markdown",
   "metadata": {},
   "source": [
    "### 学習結果の可視化"
   ]
  },
  {
   "cell_type": "code",
   "execution_count": 7,
   "metadata": {},
   "outputs": [
    {
     "data": {
      "text/plain": [
       "[None, None]"
      ]
     },
     "execution_count": 7,
     "metadata": {},
     "output_type": "execute_result"
    },
    {
     "data": {
      "image/png": "[encoded data removed]",
      "text/plain": [
       "<Figure size 600x400 with 1 Axes>"
      ]
     },
     "metadata": {
      "needs_background": "light"
     },
     "output_type": "display_data"
    }
   ],
   "source": [
    "train_metric = evals_result['train']['logloss']\n",
    "valid_metric = evals_result['eval']['logloss']\n",
    "\n",
    "fig, ax = plt.subplots(dpi=100)\n",
    "\n",
    "# タイトル\n",
    "ax.set(xlabel='rounds', ylabel='logless')\n",
    "\n",
    "# train\n",
    "ax.plot(train_metric, linewidth=2, color='#0EA89B')\n",
    "ax.text(x=len(train_metric),\n",
    "        y=train_metric[-1],\n",
    "        s='train',\n",
    "        color='#0EA89B',\n",
    "        va='center',\n",
    "        fontsize=12)\n",
    "\n",
    "# valid\n",
    "ax.plot(valid_metric, linewidth=2, color='#BDBDBD')\n",
    "ax.text(x=len(valid_metric),\n",
    "        y=valid_metric[-1],\n",
    "        s='valid',\n",
    "        color='#BDBDBD',\n",
    "        va='center',\n",
    "        fontsize=12)\n",
    "\n",
    "# 枠線を消す\n",
    "[ax.spines[side].set_visible(False) for side in ['right', 'top']]"
   ]
  },
  {
   "cell_type": "markdown",
   "metadata": {},
   "source": [
    "### スコアの確認"
   ]
  },
  {
   "cell_type": "code",
   "execution_count": 8,
   "metadata": {},
   "outputs": [
    {
     "name": "stdout",
     "output_type": "stream",
     "text": [
      "accuracy_score(vaild) : 0.9560439560439561\n",
      "\n",
      "|    |   precision |   recall |   f1-score |   support |\n",
      "|---:|------------:|---------:|-----------:|----------:|\n",
      "|  0 |    0.916667 | 0.970588 |   0.942857 |        34 |\n",
      "|  1 |    0.981818 | 0.947368 |   0.964286 |        57 |\n",
      "\n",
      "\n",
      "\n",
      "accuracy_score(test) : 0.9385964912280702\n",
      "\n",
      "|    |   precision |   recall |   f1-score |   support |\n",
      "|---:|------------:|---------:|-----------:|----------:|\n",
      "|  0 |    0.906977 | 0.928571 |   0.917647 |        42 |\n",
      "|  1 |    0.957746 | 0.944444 |   0.951049 |        72 |\n"
     ]
    }
   ],
   "source": [
    "from sklearn.metrics import classification_report\n",
    "\n",
    "# 指数表記をやめる\n",
    "# np.set_printoptions(suppress=True)\n",
    "\n",
    "\"\"\"\n",
    "バリデーションデータで予測\n",
    "\"\"\"\n",
    "# 1である確率\n",
    "valid_pred = model.predict(dvalid, ntree_limit=ntree)\n",
    "# 出力確率を0と1に二値変換\n",
    "valid_pred_class = np.round(valid_pred)\n",
    "\n",
    "# F1値、適合率、再現率、正解率をまとめて算出\n",
    "score_dict = classification_report(valid_y, valid_pred_class, output_dict=True)\n",
    "df_score = pd.DataFrame(score_dict)\n",
    "accuracy_score = df_score['accuracy'][0]\n",
    "print(f'accuracy_score(vaild) : {accuracy_score}\\n')\n",
    "print(df_score[['0', '1']].T.to_markdown())\n",
    "print('\\n\\n')\n",
    "\n",
    "\"\"\"\n",
    "テストデータで予測\n",
    "\"\"\"\n",
    "# 1である確率(0~1)\n",
    "pred = model.predict(dtest, ntree_limit=ntree)\n",
    "# 出力確率を0と1に二値変換\n",
    "pred_class = np.round(pred)\n",
    "\n",
    "# F1値、適合率、再現率、正解率、マクロ平均、加重平均をまとめて算出\n",
    "score_dict = classification_report(test_y, pred_class, output_dict=True)\n",
    "df_score = pd.DataFrame(score_dict)\n",
    "accuracy_score = df_score['accuracy'][0]\n",
    "print(f'accuracy_score(test) : {accuracy_score}\\n')\n",
    "print(df_score[['0', '1']].T.to_markdown())"
   ]
  },
  {
   "cell_type": "markdown",
   "metadata": {},
   "source": [
    "### 特徴量の重要度の可視化"
   ]
  },
  {
   "cell_type": "code",
   "execution_count": 9,
   "metadata": {},
   "outputs": [
    {
     "data": {
      "image/png": "[encoded data removed]",
      "text/plain": [
       "<Figure size 600x600 with 1 Axes>"
      ]
     },
     "metadata": {
      "needs_background": "light"
     },
     "output_type": "display_data"
    }
   ],
   "source": [
    "fig, ax = plt.subplots(figsize=(6, 6), dpi=100)\n",
    "\n",
    "# プロットする\n",
    "xgb.plot_importance(model, ax=ax, height=0.7, color='#0EA89B')\n",
    "\n",
    "# 枠線を消す\n",
    "[ax.spines[side].set_visible(False) for side in ['right', 'top', 'bottom']]\n",
    "\n",
    "# グリッド線を消す\n",
    "ax.grid(False)\n",
    "\n",
    "# 目盛り、目盛りラベルを消す\n",
    "ax.tick_params(labelbottom=False, bottom=False, left=False)\n",
    "\n",
    "# y軸ラベルを垂直方向でセンター寄せする\n",
    "for tick in ax.yaxis.get_major_ticks():\n",
    "    tick.label1.set_verticalalignment('center')\n",
    "\n",
    "# 横棒グラフとラベルの距離を調整する\n",
    "ax.tick_params(axis='y', pad=0)"
   ]
  },
  {
   "cell_type": "markdown",
   "metadata": {},
   "source": [
    "## 多値分類"
   ]
  },
  {
   "cell_type": "markdown",
   "metadata": {},
   "source": [
    "### モジュールとサンプルデータを読み込む"
   ]
  },
  {
   "cell_type": "code",
   "execution_count": 89,
   "metadata": {},
   "outputs": [
    {
     "name": "stdout",
     "output_type": "stream",
     "text": [
      "df.shape : (178, 14)\n"
     ]
    },
    {
     "data": {
      "text/html": [
       "<div>\n",
       "<style scoped>\n",
       "    .dataframe tbody tr th:only-of-type {\n",
       "        vertical-align: middle;\n",
       "    }\n",
       "\n",
       "    .dataframe tbody tr th {\n",
       "        vertical-align: top;\n",
       "    }\n",
       "\n",
       "    .dataframe thead th {\n",
       "        text-align: right;\n",
       "    }\n",
       "</style>\n",
       "<table border=\"1\" class=\"dataframe\">\n",
       "  <thead>\n",
       "    <tr style=\"text-align: right;\">\n",
       "      <th></th>\n",
       "      <th>alcohol</th>\n",
       "      <th>malic_acid</th>\n",
       "      <th>ash</th>\n",
       "      <th>alcalinity_of_ash</th>\n",
       "      <th>magnesium</th>\n",
       "      <th>total_phenols</th>\n",
       "      <th>flavanoids</th>\n",
       "      <th>nonflavanoid_phenols</th>\n",
       "      <th>proanthocyanins</th>\n",
       "      <th>color_intensity</th>\n",
       "      <th>hue</th>\n",
       "      <th>od280/od315_of_diluted_wines</th>\n",
       "      <th>proline</th>\n",
       "      <th>target</th>\n",
       "    </tr>\n",
       "  </thead>\n",
       "  <tbody>\n",
       "    <tr>\n",
       "      <th>0</th>\n",
       "      <td>14.23</td>\n",
       "      <td>1.71</td>\n",
       "      <td>2.43</td>\n",
       "      <td>15.6</td>\n",
       "      <td>127.0</td>\n",
       "      <td>2.80</td>\n",
       "      <td>3.06</td>\n",
       "      <td>0.28</td>\n",
       "      <td>2.29</td>\n",
       "      <td>5.64</td>\n",
       "      <td>1.04</td>\n",
       "      <td>3.92</td>\n",
       "      <td>1065.0</td>\n",
       "      <td>0</td>\n",
       "    </tr>\n",
       "    <tr>\n",
       "      <th>1</th>\n",
       "      <td>13.20</td>\n",
       "      <td>1.78</td>\n",
       "      <td>2.14</td>\n",
       "      <td>11.2</td>\n",
       "      <td>100.0</td>\n",
       "      <td>2.65</td>\n",
       "      <td>2.76</td>\n",
       "      <td>0.26</td>\n",
       "      <td>1.28</td>\n",
       "      <td>4.38</td>\n",
       "      <td>1.05</td>\n",
       "      <td>3.40</td>\n",
       "      <td>1050.0</td>\n",
       "      <td>0</td>\n",
       "    </tr>\n",
       "    <tr>\n",
       "      <th>2</th>\n",
       "      <td>13.16</td>\n",
       "      <td>2.36</td>\n",
       "      <td>2.67</td>\n",
       "      <td>18.6</td>\n",
       "      <td>101.0</td>\n",
       "      <td>2.80</td>\n",
       "      <td>3.24</td>\n",
       "      <td>0.30</td>\n",
       "      <td>2.81</td>\n",
       "      <td>5.68</td>\n",
       "      <td>1.03</td>\n",
       "      <td>3.17</td>\n",
       "      <td>1185.0</td>\n",
       "      <td>0</td>\n",
       "    </tr>\n",
       "    <tr>\n",
       "      <th>3</th>\n",
       "      <td>14.37</td>\n",
       "      <td>1.95</td>\n",
       "      <td>2.50</td>\n",
       "      <td>16.8</td>\n",
       "      <td>113.0</td>\n",
       "      <td>3.85</td>\n",
       "      <td>3.49</td>\n",
       "      <td>0.24</td>\n",
       "      <td>2.18</td>\n",
       "      <td>7.80</td>\n",
       "      <td>0.86</td>\n",
       "      <td>3.45</td>\n",
       "      <td>1480.0</td>\n",
       "      <td>0</td>\n",
       "    </tr>\n",
       "    <tr>\n",
       "      <th>4</th>\n",
       "      <td>13.24</td>\n",
       "      <td>2.59</td>\n",
       "      <td>2.87</td>\n",
       "      <td>21.0</td>\n",
       "      <td>118.0</td>\n",
       "      <td>2.80</td>\n",
       "      <td>2.69</td>\n",
       "      <td>0.39</td>\n",
       "      <td>1.82</td>\n",
       "      <td>4.32</td>\n",
       "      <td>1.04</td>\n",
       "      <td>2.93</td>\n",
       "      <td>735.0</td>\n",
       "      <td>0</td>\n",
       "    </tr>\n",
       "  </tbody>\n",
       "</table>\n",
       "</div>"
      ],
      "text/plain": [
       "   alcohol  malic_acid   ash  alcalinity_of_ash  magnesium  total_phenols  \\\n",
       "0    14.23        1.71  2.43               15.6      127.0           2.80   \n",
       "1    13.20        1.78  2.14               11.2      100.0           2.65   \n",
       "2    13.16        2.36  2.67               18.6      101.0           2.80   \n",
       "3    14.37        1.95  2.50               16.8      113.0           3.85   \n",
       "4    13.24        2.59  2.87               21.0      118.0           2.80   \n",
       "\n",
       "   flavanoids  nonflavanoid_phenols  proanthocyanins  color_intensity   hue  \\\n",
       "0        3.06                  0.28             2.29             5.64  1.04   \n",
       "1        2.76                  0.26             1.28             4.38  1.05   \n",
       "2        3.24                  0.30             2.81             5.68  1.03   \n",
       "3        3.49                  0.24             2.18             7.80  0.86   \n",
       "4        2.69                  0.39             1.82             4.32  1.04   \n",
       "\n",
       "   od280/od315_of_diluted_wines  proline  target  \n",
       "0                          3.92   1065.0       0  \n",
       "1                          3.40   1050.0       0  \n",
       "2                          3.17   1185.0       0  \n",
       "3                          3.45   1480.0       0  \n",
       "4                          2.93    735.0       0  "
      ]
     },
     "execution_count": 89,
     "metadata": {},
     "output_type": "execute_result"
    }
   ],
   "source": [
    "import numpy as np\n",
    "import pandas as pd\n",
    "import matplotlib as mpl\n",
    "import matplotlib.pyplot as plt\n",
    "import xgboost as xgb\n",
    "\n",
    "# サンプルデータセットを読み込む\n",
    "from sklearn.datasets import load_wine\n",
    "\n",
    "wine = load_wine()\n",
    "df = pd.DataFrame(data=wine.data, columns=wine.feature_names)\n",
    "df['target'] = wine.target\n",
    "print(f'df.shape : {df.shape}')\n",
    "\n",
    "df.head()"
   ]
  },
  {
   "cell_type": "markdown",
   "metadata": {},
   "source": [
    "### 特徴量と目的変数に分割"
   ]
  },
  {
   "cell_type": "code",
   "execution_count": 90,
   "metadata": {},
   "outputs": [
    {
     "name": "stdout",
     "output_type": "stream",
     "text": [
      "X.shape  : (178, 13)\n",
      "y.shape  : (178,)\n",
      "features : ['alcohol', 'malic_acid', 'ash', 'alcalinity_of_ash', 'magnesium', 'total_phenols', 'flavanoids', 'nonflavanoid_phenols', 'proanthocyanins', 'color_intensity', 'hue', 'od280/od315_of_diluted_wines', 'proline']\n",
      "target   : target\n"
     ]
    }
   ],
   "source": [
    "X = df.drop(columns='target')\n",
    "y = df['target']\n",
    "print(f'X.shape  : {X.shape}')\n",
    "print(f'y.shape  : {y.shape}')\n",
    "\n",
    "features = X.columns.to_list()\n",
    "target = y.name\n",
    "print(f'features : {features}')\n",
    "print(f'target   : {target}')"
   ]
  },
  {
   "cell_type": "markdown",
   "metadata": {},
   "source": [
    "### 訓練、テスト、バリデーション用に分割"
   ]
  },
  {
   "cell_type": "code",
   "execution_count": 91,
   "metadata": {},
   "outputs": [
    {
     "name": "stdout",
     "output_type": "stream",
     "text": [
      "df.shape      : (178, 14)\n",
      "train_x.shape : (113, 13)\n",
      "train_y.shape : (113,)\n",
      "valid_x.shape : (29, 13)\n",
      "valid_y.shape : (29,)\n",
      "test_x.shape  : (36, 13)\n",
      "test_y.shape  : (36,)\n"
     ]
    }
   ],
   "source": [
    "from sklearn.model_selection import train_test_split\n",
    "\n",
    "seed = 42\n",
    "train_x, test_x, train_y, test_y = train_test_split(X,\n",
    "                                                    y,\n",
    "                                                    test_size=0.2,\n",
    "                                                    random_state=seed,\n",
    "                                                    stratify=y)\n",
    "train_x, valid_x, train_y, valid_y = train_test_split(train_x,\n",
    "                                                      train_y,\n",
    "                                                      test_size=0.2,\n",
    "                                                      random_state=seed,\n",
    "                                                      stratify=train_y)\n",
    "\n",
    "print(f'df.shape      : {df.shape}')\n",
    "print(f'train_x.shape : {train_x.shape}')\n",
    "print(f'train_y.shape : {train_y.shape}')\n",
    "print(f'valid_x.shape : {valid_x.shape}')\n",
    "print(f'valid_y.shape : {valid_y.shape}')\n",
    "print(f'test_x.shape  : {test_x.shape}')\n",
    "print(f'test_y.shape  : {test_y.shape}')"
   ]
  },
  {
   "cell_type": "markdown",
   "metadata": {},
   "source": [
    "### XGBoostのデータ構造に変換"
   ]
  },
  {
   "cell_type": "code",
   "execution_count": 92,
   "metadata": {},
   "outputs": [],
   "source": [
    "dtrain = xgb.DMatrix(train_x, label=train_y)\n",
    "dvalid = xgb.DMatrix(valid_x, label=valid_y)\n",
    "dtest = xgb.DMatrix(test_x, label=test_y)"
   ]
  },
  {
   "cell_type": "markdown",
   "metadata": {},
   "source": [
    "### ハイパーパラメータの設定"
   ]
  },
  {
   "cell_type": "code",
   "execution_count": 93,
   "metadata": {},
   "outputs": [],
   "source": [
    "params = {\n",
    "    'objective': 'multi:softprob', # 多値分類問題(出力確率)\n",
    "    'num_class': 3,                # 目的変数のクラス数\n",
    "    'eval_metric': 'mlogloss',     # 学習用の指標(Multiclass logloss)\n",
    "}\n",
    "num_round = 500                    # 決定木の本数"
   ]
  },
  {
   "cell_type": "markdown",
   "metadata": {},
   "source": [
    "### 学習の実行"
   ]
  },
  {
   "cell_type": "code",
   "execution_count": 94,
   "metadata": {},
   "outputs": [
    {
     "name": "stdout",
     "output_type": "stream",
     "text": [
      "最適な決定木の本数: 39\n"
     ]
    }
   ],
   "source": [
    "evals = [(dtrain, 'train'), (dvalid, 'eval')] # 学習に用いる検証用データ\n",
    "evals_result = {}                             # 学習の経過を保存する箱\n",
    "\n",
    "model = xgb.train(params,\n",
    "                  dtrain,\n",
    "                  num_round,\n",
    "                  evals=evals,\n",
    "                  evals_result=evals_result,\n",
    "                  verbose_eval=0,             # 学習の経過の表示\n",
    "                  early_stopping_rounds=20,   # アーリーストッピング         \n",
    "                 )\n",
    "\n",
    "ntree = model.best_ntree_limit\n",
    "print(f'最適な決定木の本数: {ntree}')"
   ]
  },
  {
   "cell_type": "markdown",
   "metadata": {},
   "source": [
    "### 学習結果の可視化"
   ]
  },
  {
   "cell_type": "code",
   "execution_count": 95,
   "metadata": {},
   "outputs": [
    {
     "data": {
      "text/plain": [
       "[None, None]"
      ]
     },
     "execution_count": 95,
     "metadata": {},
     "output_type": "execute_result"
    },
    {
     "data": {
      "image/png": "[encoded data removed]",
      "text/plain": [
       "<Figure size 600x400 with 1 Axes>"
      ]
     },
     "metadata": {
      "needs_background": "light"
     },
     "output_type": "display_data"
    }
   ],
   "source": [
    "train_metric = evals_result['train']['mlogloss']\n",
    "valid_metric = evals_result['eval']['mlogloss']\n",
    "\n",
    "fig, ax = plt.subplots(dpi=100)\n",
    "\n",
    "# タイトル\n",
    "ax.set(xlabel='rounds', ylabel='logless')\n",
    "\n",
    "# train\n",
    "ax.plot(train_metric, linewidth=2, color='#0EA89B')\n",
    "ax.text(x=len(train_metric),\n",
    "        y=train_metric[-1],\n",
    "        s='train',\n",
    "        color='#0EA89B',\n",
    "        va='center',\n",
    "        fontsize=12)\n",
    "\n",
    "# valid\n",
    "ax.plot(valid_metric, linewidth=2, color='#BDBDBD')\n",
    "ax.text(x=len(valid_metric),\n",
    "        y=valid_metric[-1],\n",
    "        s='valid',\n",
    "        color='#BDBDBD',\n",
    "        va='center',\n",
    "        fontsize=12)\n",
    "\n",
    "# 枠線を消す\n",
    "[ax.spines[side].set_visible(False) for side in ['right', 'top']]"
   ]
  },
  {
   "cell_type": "markdown",
   "metadata": {},
   "source": [
    "### スコアの確認"
   ]
  },
  {
   "cell_type": "code",
   "execution_count": 98,
   "metadata": {},
   "outputs": [
    {
     "name": "stdout",
     "output_type": "stream",
     "text": [
      "validデータ\n",
      "{'0': {'f1-score': 0.9411764705882353,\n",
      "       'precision': 1.0,\n",
      "       'recall': 0.8888888888888888,\n",
      "       'support': 9},\n",
      " '1': {'f1-score': 0.9600000000000001,\n",
      "       'precision': 0.9230769230769231,\n",
      "       'recall': 1.0,\n",
      "       'support': 12},\n",
      " '2': {'f1-score': 1.0, 'precision': 1.0, 'recall': 1.0, 'support': 8},\n",
      " 'accuracy': 0.9655172413793104,\n",
      " 'macro avg': {'f1-score': 0.9670588235294119,\n",
      "               'precision': 0.9743589743589745,\n",
      "               'recall': 0.9629629629629629,\n",
      "               'support': 29},\n",
      " 'weighted avg': {'f1-score': 0.9651926977687627,\n",
      "                  'precision': 0.9681697612732095,\n",
      "                  'recall': 0.9655172413793104,\n",
      "                  'support': 29}}\n",
      "testデータ\n",
      "{'0': {'f1-score': 1.0, 'precision': 1.0, 'recall': 1.0, 'support': 12},\n",
      " '1': {'f1-score': 1.0, 'precision': 1.0, 'recall': 1.0, 'support': 14},\n",
      " '2': {'f1-score': 1.0, 'precision': 1.0, 'recall': 1.0, 'support': 10},\n",
      " 'accuracy': 1.0,\n",
      " 'macro avg': {'f1-score': 1.0, 'precision': 1.0, 'recall': 1.0, 'support': 36},\n",
      " 'weighted avg': {'f1-score': 1.0,\n",
      "                  'precision': 1.0,\n",
      "                  'recall': 1.0,\n",
      "                  'support': 36}}\n"
     ]
    }
   ],
   "source": [
    "from sklearn.metrics import classification_report\n",
    "from pprint import pprint\n",
    "\n",
    "# 指数表記をやめる\n",
    "# np.set_printoptions(suppress=True)\n",
    "\n",
    "\"\"\"\n",
    "バリデーションデータで予測\n",
    "\"\"\"\n",
    "# マルチクラス分類の確率を予測\n",
    "valid_pred = model.predict(dvalid, ntree_limit=ntree)\n",
    "# マルチクラス分類の値に多値変換\n",
    "valid_pred_class = np.argmax(valid_pred, axis=1)\n",
    "\n",
    "# F1値、適合率、再現率、正解率、マクロ平均、加重平均をまとめて算出\n",
    "score_dict = classification_report(valid_y, valid_pred_class, output_dict=True)\n",
    "print('validデータ')\n",
    "pprint(score_dict)\n",
    "\n",
    "\n",
    "\"\"\"\n",
    "テストデータで予測\n",
    "\"\"\"\n",
    "# マルチクラス分類の確率を予測\n",
    "pred = model.predict(dtest, ntree_limit=ntree)\n",
    "# マルチクラス分類の値に多値変換\n",
    "pred_class = np.argmax(pred, axis=1)\n",
    "\n",
    "# F1値、適合率、再現率、正解率、マクロ平均、加重平均をまとめて算出\n",
    "score_dict = classification_report(test_y, pred_class, output_dict=True)\n",
    "print('testデータ')\n",
    "pprint(score_dict)"
   ]
  },
  {
   "cell_type": "markdown",
   "metadata": {},
   "source": [
    "### 特徴量の重要度の可視化"
   ]
  },
  {
   "cell_type": "code",
   "execution_count": 23,
   "metadata": {},
   "outputs": [
    {
     "data": {
      "image/png": "[encoded data removed]",
      "text/plain": [
       "<Figure size 600x400 with 1 Axes>"
      ]
     },
     "metadata": {
      "needs_background": "light"
     },
     "output_type": "display_data"
    }
   ],
   "source": [
    "fig, ax = plt.subplots(dpi=100)\n",
    "\n",
    "# プロットする\n",
    "xgb.plot_importance(model, ax=ax, height=0.7, color='#0EA89B')\n",
    "\n",
    "# 枠線を消す\n",
    "[ax.spines[side].set_visible(False) for side in ['right', 'top', 'bottom']]\n",
    "\n",
    "# グリッド線を消す\n",
    "ax.grid(False)\n",
    "\n",
    "# 目盛り、目盛りラベルを消す\n",
    "ax.tick_params(labelbottom=False, bottom=False, left=False)\n",
    "\n",
    "# y軸ラベルを垂直方向でセンター寄せする\n",
    "for tick in ax.yaxis.get_major_ticks():\n",
    "    tick.label1.set_verticalalignment('center')\n",
    "\n",
    "# 横棒グラフとラベルの距離を調整する\n",
    "ax.tick_params(axis='y', pad=0)"
   ]
  },
  {
   "cell_type": "markdown",
   "metadata": {},
   "source": [
    "## 回帰"
   ]
  },
  {
   "cell_type": "markdown",
   "metadata": {},
   "source": [
    "### モジュールとサンプルデータを読み込む"
   ]
  },
  {
   "cell_type": "code",
   "execution_count": 37,
   "metadata": {},
   "outputs": [
    {
     "name": "stdout",
     "output_type": "stream",
     "text": [
      "df.shape : (506, 14)\n"
     ]
    },
    {
     "data": {
      "text/html": [
       "<div>\n",
       "<style scoped>\n",
       "    .dataframe tbody tr th:only-of-type {\n",
       "        vertical-align: middle;\n",
       "    }\n",
       "\n",
       "    .dataframe tbody tr th {\n",
       "        vertical-align: top;\n",
       "    }\n",
       "\n",
       "    .dataframe thead th {\n",
       "        text-align: right;\n",
       "    }\n",
       "</style>\n",
       "<table border=\"1\" class=\"dataframe\">\n",
       "  <thead>\n",
       "    <tr style=\"text-align: right;\">\n",
       "      <th></th>\n",
       "      <th>CRIM</th>\n",
       "      <th>ZN</th>\n",
       "      <th>INDUS</th>\n",
       "      <th>CHAS</th>\n",
       "      <th>NOX</th>\n",
       "      <th>RM</th>\n",
       "      <th>AGE</th>\n",
       "      <th>DIS</th>\n",
       "      <th>RAD</th>\n",
       "      <th>TAX</th>\n",
       "      <th>PTRATIO</th>\n",
       "      <th>B</th>\n",
       "      <th>LSTAT</th>\n",
       "      <th>target</th>\n",
       "    </tr>\n",
       "  </thead>\n",
       "  <tbody>\n",
       "    <tr>\n",
       "      <th>0</th>\n",
       "      <td>0.00632</td>\n",
       "      <td>18.0</td>\n",
       "      <td>2.31</td>\n",
       "      <td>0.0</td>\n",
       "      <td>0.538</td>\n",
       "      <td>6.575</td>\n",
       "      <td>65.2</td>\n",
       "      <td>4.0900</td>\n",
       "      <td>1.0</td>\n",
       "      <td>296.0</td>\n",
       "      <td>15.3</td>\n",
       "      <td>396.90</td>\n",
       "      <td>4.98</td>\n",
       "      <td>24.0</td>\n",
       "    </tr>\n",
       "    <tr>\n",
       "      <th>1</th>\n",
       "      <td>0.02731</td>\n",
       "      <td>0.0</td>\n",
       "      <td>7.07</td>\n",
       "      <td>0.0</td>\n",
       "      <td>0.469</td>\n",
       "      <td>6.421</td>\n",
       "      <td>78.9</td>\n",
       "      <td>4.9671</td>\n",
       "      <td>2.0</td>\n",
       "      <td>242.0</td>\n",
       "      <td>17.8</td>\n",
       "      <td>396.90</td>\n",
       "      <td>9.14</td>\n",
       "      <td>21.6</td>\n",
       "    </tr>\n",
       "    <tr>\n",
       "      <th>2</th>\n",
       "      <td>0.02729</td>\n",
       "      <td>0.0</td>\n",
       "      <td>7.07</td>\n",
       "      <td>0.0</td>\n",
       "      <td>0.469</td>\n",
       "      <td>7.185</td>\n",
       "      <td>61.1</td>\n",
       "      <td>4.9671</td>\n",
       "      <td>2.0</td>\n",
       "      <td>242.0</td>\n",
       "      <td>17.8</td>\n",
       "      <td>392.83</td>\n",
       "      <td>4.03</td>\n",
       "      <td>34.7</td>\n",
       "    </tr>\n",
       "    <tr>\n",
       "      <th>3</th>\n",
       "      <td>0.03237</td>\n",
       "      <td>0.0</td>\n",
       "      <td>2.18</td>\n",
       "      <td>0.0</td>\n",
       "      <td>0.458</td>\n",
       "      <td>6.998</td>\n",
       "      <td>45.8</td>\n",
       "      <td>6.0622</td>\n",
       "      <td>3.0</td>\n",
       "      <td>222.0</td>\n",
       "      <td>18.7</td>\n",
       "      <td>394.63</td>\n",
       "      <td>2.94</td>\n",
       "      <td>33.4</td>\n",
       "    </tr>\n",
       "    <tr>\n",
       "      <th>4</th>\n",
       "      <td>0.06905</td>\n",
       "      <td>0.0</td>\n",
       "      <td>2.18</td>\n",
       "      <td>0.0</td>\n",
       "      <td>0.458</td>\n",
       "      <td>7.147</td>\n",
       "      <td>54.2</td>\n",
       "      <td>6.0622</td>\n",
       "      <td>3.0</td>\n",
       "      <td>222.0</td>\n",
       "      <td>18.7</td>\n",
       "      <td>396.90</td>\n",
       "      <td>5.33</td>\n",
       "      <td>36.2</td>\n",
       "    </tr>\n",
       "  </tbody>\n",
       "</table>\n",
       "</div>"
      ],
      "text/plain": [
       "      CRIM    ZN  INDUS  CHAS    NOX     RM   AGE     DIS  RAD    TAX  \\\n",
       "0  0.00632  18.0   2.31   0.0  0.538  6.575  65.2  4.0900  1.0  296.0   \n",
       "1  0.02731   0.0   7.07   0.0  0.469  6.421  78.9  4.9671  2.0  242.0   \n",
       "2  0.02729   0.0   7.07   0.0  0.469  7.185  61.1  4.9671  2.0  242.0   \n",
       "3  0.03237   0.0   2.18   0.0  0.458  6.998  45.8  6.0622  3.0  222.0   \n",
       "4  0.06905   0.0   2.18   0.0  0.458  7.147  54.2  6.0622  3.0  222.0   \n",
       "\n",
       "   PTRATIO       B  LSTAT  target  \n",
       "0     15.3  396.90   4.98    24.0  \n",
       "1     17.8  396.90   9.14    21.6  \n",
       "2     17.8  392.83   4.03    34.7  \n",
       "3     18.7  394.63   2.94    33.4  \n",
       "4     18.7  396.90   5.33    36.2  "
      ]
     },
     "execution_count": 37,
     "metadata": {},
     "output_type": "execute_result"
    }
   ],
   "source": [
    "import numpy as np\n",
    "import pandas as pd\n",
    "import matplotlib as mpl\n",
    "import matplotlib.pyplot as plt\n",
    "import xgboost as xgb\n",
    "\n",
    "# サンプルデータセットを読み込む\n",
    "from sklearn.datasets import load_boston\n",
    "\n",
    "boston = load_boston()\n",
    "df = pd.DataFrame(data=boston.data, columns=boston.feature_names)\n",
    "df['target'] = boston.target\n",
    "print(f'df.shape : {df.shape}')\n",
    "\n",
    "df.head()"
   ]
  },
  {
   "cell_type": "markdown",
   "metadata": {},
   "source": [
    "### 特徴量と目的変数に分割"
   ]
  },
  {
   "cell_type": "code",
   "execution_count": 38,
   "metadata": {},
   "outputs": [
    {
     "name": "stdout",
     "output_type": "stream",
     "text": [
      "X.shape  : (506, 13)\n",
      "y.shape  : (506,)\n",
      "features : ['CRIM', 'ZN', 'INDUS', 'CHAS', 'NOX', 'RM', 'AGE', 'DIS', 'RAD', 'TAX', 'PTRATIO', 'B', 'LSTAT']\n",
      "target   : target\n"
     ]
    }
   ],
   "source": [
    "X = df.drop(columns='target')\n",
    "y = df['target']\n",
    "print(f'X.shape  : {X.shape}')\n",
    "print(f'y.shape  : {y.shape}')\n",
    "\n",
    "features = X.columns.to_list()\n",
    "target = y.name\n",
    "print(f'features : {features}')\n",
    "print(f'target   : {target}')"
   ]
  },
  {
   "cell_type": "markdown",
   "metadata": {},
   "source": [
    "### 訓練、テスト、バリデーション用に分割"
   ]
  },
  {
   "cell_type": "code",
   "execution_count": 40,
   "metadata": {},
   "outputs": [
    {
     "name": "stdout",
     "output_type": "stream",
     "text": [
      "df.shape      : (506, 14)\n",
      "train_x.shape : (323, 13)\n",
      "train_y.shape : (323,)\n",
      "valid_x.shape : (81, 13)\n",
      "valid_y.shape : (81,)\n",
      "test_x.shape  : (102, 13)\n",
      "test_y.shape  : (102,)\n"
     ]
    }
   ],
   "source": [
    "from sklearn.model_selection import train_test_split\n",
    "\n",
    "seed = 42\n",
    "train_x, test_x, train_y, test_y = train_test_split(X,\n",
    "                                                    y,\n",
    "                                                    test_size=0.2,\n",
    "                                                    random_state=seed)\n",
    "train_x, valid_x, train_y, valid_y = train_test_split(train_x,\n",
    "                                                      train_y,\n",
    "                                                      test_size=0.2,\n",
    "                                                      random_state=seed)\n",
    "\n",
    "print(f'df.shape      : {df.shape}')\n",
    "print(f'train_x.shape : {train_x.shape}')\n",
    "print(f'train_y.shape : {train_y.shape}')\n",
    "print(f'valid_x.shape : {valid_x.shape}')\n",
    "print(f'valid_y.shape : {valid_y.shape}')\n",
    "print(f'test_x.shape  : {test_x.shape}')\n",
    "print(f'test_y.shape  : {test_y.shape}')"
   ]
  },
  {
   "cell_type": "markdown",
   "metadata": {},
   "source": [
    "### XGBoostのデータ構造に変換"
   ]
  },
  {
   "cell_type": "code",
   "execution_count": 41,
   "metadata": {},
   "outputs": [],
   "source": [
    "dtrain = xgb.DMatrix(train_x, label=train_y)\n",
    "dvalid = xgb.DMatrix(valid_x, label=valid_y)\n",
    "dtest = xgb.DMatrix(test_x, label=test_y)"
   ]
  },
  {
   "cell_type": "markdown",
   "metadata": {},
   "source": [
    "### ハイパーパラメータの設定"
   ]
  },
  {
   "cell_type": "code",
   "execution_count": 42,
   "metadata": {},
   "outputs": [],
   "source": [
    "params = {\n",
    "    'objective': 'reg:squarederror', # 多値分類問題(出力確率)\n",
    "    'eval_metric': 'rmse',           # 学習用の指標(rmse)\n",
    "}\n",
    "num_round = 500                      # 決定木の本数"
   ]
  },
  {
   "cell_type": "markdown",
   "metadata": {},
   "source": [
    "### 学習の実行"
   ]
  },
  {
   "cell_type": "code",
   "execution_count": 43,
   "metadata": {},
   "outputs": [
    {
     "name": "stdout",
     "output_type": "stream",
     "text": [
      "最適な決定木の本数: 49\n"
     ]
    }
   ],
   "source": [
    "evals = [(dtrain, 'train'), (dvalid, 'eval')] # 学習に用いる検証用データ\n",
    "evals_result = {}                             # 学習の経過を保存する箱\n",
    "\n",
    "model = xgb.train(params,\n",
    "                  dtrain,\n",
    "                  num_round,\n",
    "                  evals=evals,\n",
    "                  evals_result=evals_result,\n",
    "                  verbose_eval=0,             # 学習の経過の表示\n",
    "                  early_stopping_rounds=20,   # アーリーストッピング         \n",
    "                 )\n",
    "\n",
    "ntree = model.best_ntree_limit\n",
    "print(f'最適な決定木の本数: {ntree}')"
   ]
  },
  {
   "cell_type": "markdown",
   "metadata": {},
   "source": [
    "### 学習結果の可視化"
   ]
  },
  {
   "cell_type": "code",
   "execution_count": 56,
   "metadata": {},
   "outputs": [
    {
     "data": {
      "text/plain": [
       "[None, None]"
      ]
     },
     "execution_count": 56,
     "metadata": {},
     "output_type": "execute_result"
    },
    {
     "data": {
      "image/png": "[encoded data removed]",
      "text/plain": [
       "<Figure size 600x400 with 1 Axes>"
      ]
     },
     "metadata": {
      "needs_background": "light"
     },
     "output_type": "display_data"
    }
   ],
   "source": [
    "train_metric = evals_result['train']['rmse']\n",
    "valid_metric = evals_result['eval']['rmse']\n",
    "\n",
    "fig, ax = plt.subplots(dpi=100)\n",
    "\n",
    "# タイトル\n",
    "ax.set(xlabel='rounds', ylabel='rmse')\n",
    "\n",
    "# train\n",
    "ax.plot(train_metric, linewidth=2, color='#0EA89B')\n",
    "ax.text(x=len(train_metric),\n",
    "        y=train_metric[-1],\n",
    "        s='train',\n",
    "        color='#0EA89B',\n",
    "        va='center',\n",
    "        fontsize=12)\n",
    "\n",
    "# valid\n",
    "ax.plot(valid_metric, linewidth=2, color='#BDBDBD')\n",
    "ax.text(x=len(valid_metric),\n",
    "        y=valid_metric[-1],\n",
    "        s='valid',\n",
    "        color='#BDBDBD',\n",
    "        va='center',\n",
    "        fontsize=12)\n",
    "\n",
    "# 枠線を消す\n",
    "[ax.spines[side].set_visible(False) for side in ['right', 'top']]"
   ]
  },
  {
   "cell_type": "markdown",
   "metadata": {},
   "source": [
    "### スコアの確認"
   ]
  },
  {
   "cell_type": "code",
   "execution_count": 67,
   "metadata": {},
   "outputs": [
    {
     "name": "stdout",
     "output_type": "stream",
     "text": [
      "r2_score(valid): 0.8652\n",
      "r2_score(test) : 0.8617\n"
     ]
    }
   ],
   "source": [
    "from sklearn.metrics import r2_score\n",
    "\n",
    "# バリデーションデータで予測\n",
    "valid_pred = model.predict(dvalid, ntree_limit=ntree)\n",
    "score = r2_score(valid_y, valid_pred)\n",
    "print(f'r2_score(valid): {score:.4f}')\n",
    "\n",
    "# テストデータで予測\n",
    "pred = model.predict(dtest, ntree_limit=ntree)\n",
    "score = r2_score(test_y, pred)\n",
    "print(f'r2_score(test) : {score:.4f}')"
   ]
  },
  {
   "cell_type": "markdown",
   "metadata": {},
   "source": [
    "### 予測と実測の可視化"
   ]
  },
  {
   "cell_type": "code",
   "execution_count": 55,
   "metadata": {},
   "outputs": [
    {
     "data": {
      "text/plain": [
       "[<matplotlib.lines.Line2D at 0x7f92337d7d60>]"
      ]
     },
     "execution_count": 55,
     "metadata": {},
     "output_type": "execute_result"
    },
    {
     "data": {
      "image/png": "[encoded data removed]",
      "text/plain": [
       "<Figure size 500x500 with 1 Axes>"
      ]
     },
     "metadata": {
      "needs_background": "light"
     },
     "output_type": "display_data"
    }
   ],
   "source": [
    "fig, ax = plt.subplots(figsize=(5, 5), dpi=100)\n",
    "\n",
    "# タイトル\n",
    "ax.set(xlabel='Predict', ylabel='Actual')\n",
    "\n",
    "ax.scatter(pred, test_y, color='#0EA89B', alpha=0.7)\n",
    "ax.plot([10, 50], [10, 50], color='#D9D51A')"
   ]
  },
  {
   "cell_type": "markdown",
   "metadata": {},
   "source": [
    "### 特徴量の重要度の可視化"
   ]
  },
  {
   "cell_type": "code",
   "execution_count": 45,
   "metadata": {},
   "outputs": [
    {
     "data": {
      "image/png": "[encoded data removed]",
      "text/plain": [
       "<Figure size 600x400 with 1 Axes>"
      ]
     },
     "metadata": {
      "needs_background": "light"
     },
     "output_type": "display_data"
    }
   ],
   "source": [
    "fig, ax = plt.subplots(dpi=100)\n",
    "\n",
    "# プロットする\n",
    "xgb.plot_importance(model, ax=ax, height=0.7, color='#0EA89B')\n",
    "\n",
    "# 枠線を消す\n",
    "[ax.spines[side].set_visible(False) for side in ['right', 'top', 'bottom']]\n",
    "\n",
    "# グリッド線を消す\n",
    "ax.grid(False)\n",
    "\n",
    "# 目盛り、目盛りラベルを消す\n",
    "ax.tick_params(labelbottom=False, bottom=False, left=False)\n",
    "\n",
    "# y軸ラベルを垂直方向でセンター寄せする\n",
    "for tick in ax.yaxis.get_major_ticks():\n",
    "    tick.label1.set_verticalalignment('center')\n",
    "\n",
    "# 横棒グラフとラベルの距離を調整する\n",
    "ax.tick_params(axis='y', pad=0)"
   ]
  },
  {
   "cell_type": "code",
   "execution_count": null,
   "metadata": {},
   "outputs": [],
   "source": []
  }
 ],
 "metadata": {
  "kernelspec": {
   "display_name": "Python 3",
   "language": "python",
   "name": "python3"
  },
  "language_info": {
   "codemirror_mode": {
    "name": "ipython",
    "version": 3
   },
   "file_extension": ".py",
   "mimetype": "text/x-python",
   "name": "python",
   "nbconvert_exporter": "python",
   "pygments_lexer": "ipython3",
   "version": "3.8.3"
  },
  "toc": {
   "base_numbering": 1,
   "nav_menu": {},
   "number_sections": true,
   "sideBar": true,
   "skip_h1_title": false,
   "title_cell": "Table of Contents",
   "title_sidebar": "Contents",
   "toc_cell": false,
   "toc_position": {
    "height": "calc(100% - 180px)",
    "left": "10px",
    "top": "150px",
    "width": "384px"
   },
   "toc_section_display": true,
   "toc_window_display": true
  }
 },
 "nbformat": 4,
 "nbformat_minor": 4
}
