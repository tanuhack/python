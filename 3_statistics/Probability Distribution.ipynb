{
 "cells": [
  {
   "cell_type": "markdown",
   "metadata": {},
   "source": [
    "zshで必要なモジュールをインストール\n",
    "```zsh\n",
    "% pip install numpy\n",
    "% pip install scipy\n",
    "% pip install matplotlib\n",
    "```"
   ]
  },
  {
   "cell_type": "code",
   "execution_count": 145,
   "metadata": {},
   "outputs": [],
   "source": [
    "import numpy as np\n",
    "import matplotlib as mpl\n",
    "import matplotlib.pyplot as plt\n",
    "\n",
    "\n",
    "# 離散型\n",
    "from scipy.stats import binom   # 二項分布\n",
    "from scipy.stats import poisson # ポアソン分布\n",
    "from scipy.stats import geom    # 幾何分布\n",
    "from scipy.stats import nbinom  # 負の二項分布（パスカル分布）\n",
    "\n",
    "\n",
    "# fivethirtyeightスタイルを使う\n",
    "mpl.style.use(style='fivethirtyeight')\n",
    "\n",
    "# Jupyter Notebookに描画\n",
    "%matplotlib inline"
   ]
  },
  {
   "cell_type": "markdown",
   "metadata": {},
   "source": [
    "## 離散型確率分布（discrete distributions）"
   ]
  },
  {
   "cell_type": "markdown",
   "metadata": {},
   "source": [
    "### 二項分布（binominal distribution）\n",
    "\n",
    "- [scipy.stats.binom](https://docs.scipy.org/doc/scipy/reference/generated/scipy.stats.binom.html)\n",
    "\n",
    "$n$ 回のベルヌーイ試行において、成功確率 $p$ の 事象 $X$ が $k$ 回起こる確率分布\n",
    "\n",
    "$$\n",
    "P(X=k)=_nC_kp^k(1-p)^{n-k}\n",
    "$$\n",
    "\n",
    ">ここにはテキストが入ります。ここにはテキストが入ります。\n",
    "\n",
    "$X \\sim B(n, p)$ のとき、\n",
    "- 期待値　 : $E(X)=np$\n",
    "- 標準偏差 : $\\sigma(X)=\\sqrt{np(1-p)}$\n",
    "\n",
    "---\n",
    "\n",
    "e.g. "
   ]
  },
  {
   "cell_type": "code",
   "execution_count": null,
   "metadata": {},
   "outputs": [],
   "source": []
  },
  {
   "cell_type": "markdown",
   "metadata": {},
   "source": [
    "### ポアソン分布（poisson distribution）\n",
    "\n",
    "- [scipy.stats.poisson](https://docs.scipy.org/doc/scipy/reference/generated/scipy.stats.poisson.html)\n",
    "\n",
    "ある期間に平均 $ \\lambda $ 回起こる事象 $X$ が $ k $ 回起こる確率分布\n",
    "\n",
    "$$\n",
    "P(X=k)=\\frac{e^{-\\lambda}\\lambda^k}{k!}\n",
    "$$\n",
    "\n",
    ">ベルヌーイ試行のうち $n$ が十分大きく、 確率 $p$ が非常に小さい時、事象 $X$ の期待値 $E(X)$ は『 $np = \\lambda $（一定）』と考えることができる。このとき、事象 $X$ が発生する回数 $k$ は**ポアソン分布**に従う。つまり、ポアソン分布は『ある期間に平均 $\\lambda$ 回発生する事象が、ある期間に $k$ 回発生する確率分布』と言い換えられる。\n",
    "\n",
    "$X \\sim Po(\\lambda)$ のとき、\n",
    "- 期待値　 : $E(X)=\\lambda$\n",
    "- 標準偏差 : $\\sigma(X)=\\sqrt{\\lambda}$\n",
    "\n",
    "---\n",
    "\n",
    "e.g. \n",
    "- 1時間に平均5回アクセスされるサイトが10回アクセスされる確率\n",
    "$$\n",
    "P(X=10) = \\frac{e^{-5}\\times5^{10}}{10!} \\fallingdotseq 0.018\n",
    "$$\n",
    "\n",
    "\n",
    "- 100個に1個の当たりのあるお菓子を10個買った時に、当たりのお菓子が2個含まれる場合の確率\n",
    "$$\n",
    "P(X=2) = \\frac{e^{-0.1}\\times{0.1}^2}{2!} \\fallingdotseq 0.0045\n",
    "$$"
   ]
  },
  {
   "cell_type": "markdown",
   "metadata": {},
   "source": [
    "#### 確率質量関数（probability mass function, PMF）\n",
    "\n",
    "e.g. 1か月に平均2回外食する人が4回外食する確率"
   ]
  },
  {
   "cell_type": "code",
   "execution_count": 78,
   "metadata": {},
   "outputs": [
    {
     "name": "stdout",
     "output_type": "stream",
     "text": [
      "9.02%\n"
     ]
    }
   ],
   "source": [
    "mu = 2\n",
    "k = 4\n",
    "print(f'{poisson.pmf(k, mu):.2%}')"
   ]
  },
  {
   "cell_type": "markdown",
   "metadata": {},
   "source": [
    "#### パーセント点関数（percent point function, PPF）\n",
    "\n",
    "e.g. 1か月に平均2回外食する人の母平均 $\\mu$ の95%信頼区間を求める"
   ]
  },
  {
   "cell_type": "code",
   "execution_count": 73,
   "metadata": {},
   "outputs": [
    {
     "name": "stdout",
     "output_type": "stream",
     "text": [
      "0 <= μ <= 5\n"
     ]
    }
   ],
   "source": [
    "mu = 2\n",
    "print(f'{poisson.ppf(0.025, mu):.0f} <= μ <= {poisson.ppf(0.975 , mu):.0f}')"
   ]
  },
  {
   "cell_type": "markdown",
   "metadata": {},
   "source": [
    "#### 累積分布関数（cumulative density function, CDF）\n",
    "\n",
    "e.g. 1か月に平均2回外食する人が0〜3回外食する確率"
   ]
  },
  {
   "cell_type": "code",
   "execution_count": 46,
   "metadata": {},
   "outputs": [
    {
     "name": "stdout",
     "output_type": "stream",
     "text": [
      "85.71%\n"
     ]
    }
   ],
   "source": [
    "mu = 2\n",
    "k = 3\n",
    "print(f'{poisson.cdf(k, mu):.2%}')"
   ]
  },
  {
   "cell_type": "markdown",
   "metadata": {},
   "source": [
    "#### 生存関数（survival function, SF）\n",
    "\n",
    "e.g. 1か月に平均2回外食する人が3回より多く外食する確率"
   ]
  },
  {
   "cell_type": "code",
   "execution_count": 61,
   "metadata": {},
   "outputs": [
    {
     "name": "stdout",
     "output_type": "stream",
     "text": [
      "14.29%\n"
     ]
    }
   ],
   "source": [
    "mu = 2\n",
    "k = 3\n",
    "print(f'{poisson.sf(k, mu):.2%}')"
   ]
  },
  {
   "cell_type": "markdown",
   "metadata": {},
   "source": [
    "#### ポアソン分布（確率質量関数）の可視化\n",
    "\n",
    "e.g. 1か月に平均2回外食する人のポアソン分布（母平均 $\\mu$ の99%信頼区間）をプロットする"
   ]
  },
  {
   "cell_type": "code",
   "execution_count": 87,
   "metadata": {},
   "outputs": [
    {
     "data": {
      "text/plain": [
       "<matplotlib.collections.LineCollection at 0x7fe7e017a250>"
      ]
     },
     "execution_count": 87,
     "metadata": {},
     "output_type": "execute_result"
    },
    {
     "data": {
      "image/png": "[encoded data removed]",
      "text/plain": [
       "<Figure size 500x500 with 1 Axes>"
      ]
     },
     "metadata": {
      "needs_background": "light"
     },
     "output_type": "display_data"
    }
   ],
   "source": [
    "mu = 2\n",
    "k = np.arange(poisson.ppf(0.005, mu), poisson.ppf(0.995, mu))\n",
    "\n",
    "fig, ax = plt.subplots(figsize=(5, 5), dpi=100)\n",
    "ax.set(title='Poisson PMF', xlabel='k', ylabel='probability')\n",
    "ax.vlines(k, 0, poisson.pmf(k, mu), colors='#0EA89B')"
   ]
  },
  {
   "cell_type": "markdown",
   "metadata": {},
   "source": [
    "### 幾何分布（geometric distribution）\n",
    "\n",
    "- [scipy.stats.geom](https://docs.scipy.org/doc/scipy/reference/generated/scipy.stats.geom.html)\n",
    "\n",
    "成功確率 $p$ のベルヌーイ試行を繰り返す事象 $X$ が $n$ 回目に初めて成功する確率分布\n",
    "\n",
    "$$\n",
    "P(X=n)=(1-p)^{n-1}p\n",
    "$$\n",
    "\n",
    "$X \\sim Geom(p)$ のとき、\n",
    "- 期待値　 : $E(X)=\\frac{1}{p}$\n",
    "- 標準偏差 : $\\sigma(X)=\\sqrt{\\frac{1-p}{p^2}}$\n",
    "\n",
    "---\n",
    "\n",
    "e.g. \n",
    "- 2人でじゃんけんをして勝つ確率は $\\frac{1}{3}$ である。5回目で初めて勝つ確率は\n",
    "\n",
    "$$\n",
    "P(X=5) = (1-\\frac{1}{3})^4 \\times \\frac{1}{3} \\fallingdotseq 0.065\n",
    "$$\n",
    "\n",
    "- 1つの卵を割って2つ黄身が出る（二黄卵）の確率は $\\frac{1}{100}$ である。10回目で初めて出る確率は\n",
    "\n",
    "$$\n",
    "P(X=10) = (1-\\frac{1}{100})^9 \\times \\frac{1}{100} \\fallingdotseq 0.0091\n",
    "$$"
   ]
  },
  {
   "cell_type": "markdown",
   "metadata": {},
   "source": [
    "#### 確率質量関数（probability mass function, PMF）\n",
    "\n",
    "e.g. サイコロを投げて6が出る確率 $p$ は $\\frac{1}{6}$ である。4投目で初めて6が出る確率は"
   ]
  },
  {
   "cell_type": "code",
   "execution_count": 111,
   "metadata": {},
   "outputs": [
    {
     "name": "stdout",
     "output_type": "stream",
     "text": [
      "9.65%\n"
     ]
    }
   ],
   "source": [
    "p = 1/6\n",
    "n = 4\n",
    "print(f'{geom.pmf(n, p):.2%}')"
   ]
  },
  {
   "cell_type": "markdown",
   "metadata": {},
   "source": [
    "#### パーセント点関数（percent point function, PPF）\n",
    "\n",
    "e.g. サイコロを投げて6が出る確率 $p$ は $\\frac{1}{6}$ である。 初めて6が出る試行回数 $n$ の95%信頼区間を求める。"
   ]
  },
  {
   "cell_type": "code",
   "execution_count": 113,
   "metadata": {},
   "outputs": [
    {
     "name": "stdout",
     "output_type": "stream",
     "text": [
      "1 <= n <= 21\n"
     ]
    }
   ],
   "source": [
    "p = 1/6\n",
    "print(f'{geom.ppf(0.025, p):.0f} <= n <= {geom.ppf(0.975 , p):.0f}')"
   ]
  },
  {
   "cell_type": "markdown",
   "metadata": {},
   "source": [
    "#### 累積分布関数（cumulative density function, CDF）\n",
    "\n",
    "e.g. サイコロを投げて6が出る確率 $p$ は $\\frac{1}{6}$ である。4投目までに6が1回でも出る確率は"
   ]
  },
  {
   "cell_type": "code",
   "execution_count": 123,
   "metadata": {},
   "outputs": [
    {
     "name": "stdout",
     "output_type": "stream",
     "text": [
      "51.77%\n"
     ]
    }
   ],
   "source": [
    "p = 1/6\n",
    "n = 4\n",
    "print(f'{geom.cdf(n, p):.2%}')"
   ]
  },
  {
   "cell_type": "markdown",
   "metadata": {},
   "source": [
    "#### 生存関数（survival function, SF）\n",
    "\n",
    "e.g. サイコロを投げて6が出る確率 $p$ は $\\frac{1}{6}$ である。4投目より多く投げたときに初めて6が出る確率は"
   ]
  },
  {
   "cell_type": "code",
   "execution_count": 124,
   "metadata": {},
   "outputs": [
    {
     "name": "stdout",
     "output_type": "stream",
     "text": [
      "48.23%\n"
     ]
    }
   ],
   "source": [
    "p = 1/6\n",
    "n = 4\n",
    "print(f'{geom.sf(n, p):.2%}')"
   ]
  },
  {
   "cell_type": "markdown",
   "metadata": {},
   "source": [
    "#### 幾何分布（確率質量関数）の可視化\n",
    "\n",
    "e.g. サイコロを投げて6が出る確率 $p$ は $\\frac{1}{6}$ である。初めて6が出る試行回数 $n$ の99%信頼区間をプロットする"
   ]
  },
  {
   "cell_type": "code",
   "execution_count": 134,
   "metadata": {},
   "outputs": [
    {
     "data": {
      "text/plain": [
       "<matplotlib.collections.LineCollection at 0x7fe7ec15b520>"
      ]
     },
     "execution_count": 134,
     "metadata": {},
     "output_type": "execute_result"
    },
    {
     "data": {
      "image/png": "[encoded data removed]",
      "text/plain": [
       "<Figure size 500x500 with 1 Axes>"
      ]
     },
     "metadata": {
      "needs_background": "light"
     },
     "output_type": "display_data"
    }
   ],
   "source": [
    "p = 1/6\n",
    "n = np.arange(geom.ppf(0.005, p), geom.ppf(0.995, p))\n",
    "\n",
    "fig, ax = plt.subplots(figsize=(5, 5), dpi=100)\n",
    "ax.set(title='Geometric PMF', xlabel='n', ylabel='probability')\n",
    "ax.vlines(n, 0, geom.pmf(n, p), colors='#0EA89B')"
   ]
  },
  {
   "cell_type": "markdown",
   "metadata": {},
   "source": [
    "### 負の二項分布（negative binomial distribution）\n",
    "\n",
    "- [scipy.stats.nbinom](https://docs.scipy.org/doc/scipy/reference/generated/scipy.stats.nbinom.html)\n",
    "\n",
    "$k+r$ 回のベルヌーイ試行において、成功確率 $p$ の事象 $X$ が $r$ 回成功するまでの失敗回数 $k$ の確率分布\n",
    "\n",
    "$$\n",
    "P(X=k)=_{r+k-1}C_kp^r(1-p)^k\n",
    "$$\n",
    "\n",
    ">成功回数 $r$ が1のとき、幾何分布となる。\n",
    "\n",
    "$X \\sim NB(r, p)$ のとき、\n",
    "- 期待値　 : $E(X)=\\frac{r(1-p)}{p}$\n",
    "- 標準偏差 : $\\sigma(X)=\\sqrt{\\frac{r(1-p)}{p^2}}$\n",
    "\n",
    "---\n",
    "\n",
    "e.g. \n",
    "- サイコロを投げて6が出る確率 $p$ は $\\frac{1}{6}$ である。6の目が3回出るまでに他の目が 5回出る確率は\n",
    "\n",
    "$$\n",
    "P(X=5)=_7C_5 \\times (\\frac{1}{6})^3 \\times (1-\\frac{1}{6})^5 \\fallingdotseq 0.0391\n",
    "$$"
   ]
  },
  {
   "cell_type": "code",
   "execution_count": 179,
   "metadata": {},
   "outputs": [
    {
     "data": {
      "text/plain": [
       "0.03907143061271148"
      ]
     },
     "execution_count": 179,
     "metadata": {},
     "output_type": "execute_result"
    }
   ],
   "source": [
    "r = 3\n",
    "p = 1/6\n",
    "nbinom.pmf(5, r, p)"
   ]
  },
  {
   "cell_type": "code",
   "execution_count": 180,
   "metadata": {},
   "outputs": [
    {
     "data": {
      "text/plain": [
       "(60.0, 265.0, 717.0)"
      ]
     },
     "execution_count": 180,
     "metadata": {},
     "output_type": "execute_result"
    }
   ],
   "source": [
    "r = 3\n",
    "p = 1/100\n",
    "\n",
    "nbinom.ppf(0.025, r, p), nbinom.ppf(0.5, r, p), nbinom.ppf(0.975, r, p)"
   ]
  },
  {
   "cell_type": "code",
   "execution_count": 171,
   "metadata": {},
   "outputs": [
    {
     "data": {
      "text/plain": [
       "23.0"
      ]
     },
     "execution_count": 171,
     "metadata": {},
     "output_type": "execute_result"
    }
   ],
   "source": [
    "nbinom.ppf(0.975, r, p)"
   ]
  },
  {
   "cell_type": "code",
   "execution_count": 181,
   "metadata": {},
   "outputs": [
    {
     "data": {
      "text/plain": [
       "<matplotlib.collections.LineCollection at 0x7fe7ec16dd00>"
      ]
     },
     "execution_count": 181,
     "metadata": {},
     "output_type": "execute_result"
    },
    {
     "data": {
      "image/png": "[encoded data removed]",
      "text/plain": [
       "<Figure size 500x500 with 1 Axes>"
      ]
     },
     "metadata": {
      "needs_background": "light"
     },
     "output_type": "display_data"
    }
   ],
   "source": [
    "p = 1/6\n",
    "r = 5\n",
    "x = np.arange(nbinom.ppf(0.005, r, p), nbinom.ppf(0.995, r, p))\n",
    "\n",
    "fig, ax = plt.subplots(figsize=(5, 5), dpi=100)\n",
    "ax.set(title='Negative Binomial PMF', xlabel='n', ylabel='probability')\n",
    "ax.vlines(x, 0, nbinom.pmf(x, r, p), colors='#0EA89B')"
   ]
  },
  {
   "cell_type": "code",
   "execution_count": null,
   "metadata": {},
   "outputs": [],
   "source": []
  }
 ],
 "metadata": {
  "kernelspec": {
   "display_name": "Python 3",
   "language": "python",
   "name": "python3"
  },
  "language_info": {
   "codemirror_mode": {
    "name": "ipython",
    "version": 3
   },
   "file_extension": ".py",
   "mimetype": "text/x-python",
   "name": "python",
   "nbconvert_exporter": "python",
   "pygments_lexer": "ipython3",
   "version": "3.8.3"
  },
  "toc": {
   "base_numbering": 1,
   "nav_menu": {},
   "number_sections": true,
   "sideBar": true,
   "skip_h1_title": false,
   "title_cell": "Table of Contents",
   "title_sidebar": "Contents",
   "toc_cell": false,
   "toc_position": {
    "height": "calc(100% - 180px)",
    "left": "10px",
    "top": "150px",
    "width": "407px"
   },
   "toc_section_display": true,
   "toc_window_display": true
  }
 },
 "nbformat": 4,
 "nbformat_minor": 4
}
