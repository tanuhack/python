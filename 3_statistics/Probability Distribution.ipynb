{
 "cells": [
  {
   "cell_type": "markdown",
   "metadata": {},
   "source": [
    "```zsh\n",
    "% pip install numpy\n",
    "% pip install scipy\n",
    "% pip install matplotlib\n",
    "```"
   ]
  },
  {
   "cell_type": "markdown",
   "metadata": {},
   "source": [
    "## 離散型確率分布"
   ]
  },
  {
   "cell_type": "markdown",
   "metadata": {},
   "source": [
    "### ポアソン分布（poisson distribution）\n",
    "\n",
    "ある期間に平均 $ \\lambda $ 回起こる事象 $X$ が $ k $ 回起こる確率\n",
    "\n",
    "$$\n",
    "P(X=k)=\\frac{e^{-\\lambda}\\lambda^k}{k!}\n",
    "$$\n",
    "\n",
    ">ベルヌーイ試行のうち $n$ が十分大きく、 確率 $p$ が非常に小さい時、事象 $X$ の期待値 $E(X)$ は『 $np = \\lambda $（一定）』と考えることができる。このとき、事象 $X$ が発生する回数 $k$ は**ポアソン分布**に従う。つまり、ポアソン分布は『ある期間に平均 $\\lambda$ 回発生する事象が、ある期間に $k$ 回発生する確率分布』と言い換えられる。\n",
    "\n",
    "- 期待値　 : $E(X) = \\lambda$\n",
    "- 標準偏差 : $Std(X) = \\sqrt{\\lambda}$\n",
    "\n",
    "---\n",
    "\n",
    "e.g. \n",
    "- 1時間に平均5回アクセスされるサイトが10回アクセスされる確率\n",
    "$$\n",
    "P(X=10) = \\frac{e^{-5}\\times5^{10}}{10!} \\fallingdotseq 0.018\n",
    "$$\n",
    "\n",
    "\n",
    "- 100個に1個の当たりのあるお菓子を10個買った時に、当たりのお菓子が2個含まれる場合の確率\n",
    "$$\n",
    "P(X=2) = \\frac{e^{-0.1}\\times{0.1}^2}{2!} \\fallingdotseq 0.0045\n",
    "$$"
   ]
  },
  {
   "cell_type": "markdown",
   "metadata": {},
   "source": [
    "#### モジュールのインポートと初期設定"
   ]
  },
  {
   "cell_type": "code",
   "execution_count": 10,
   "metadata": {},
   "outputs": [],
   "source": [
    "import numpy as np\n",
    "from scipy.stats import poisson\n",
    "import matplotlib as mpl\n",
    "import matplotlib.pyplot as plt\n",
    "\n",
    "# fivethirtyeightスタイルを使う\n",
    "mpl.style.use(style='fivethirtyeight')\n",
    "\n",
    "# Jupyter Notebookに描画する\n",
    "%matplotlib inline"
   ]
  },
  {
   "cell_type": "markdown",
   "metadata": {},
   "source": [
    "#### 確率質量関数（probability mass function, PMF）\n",
    "\n",
    "e.g. 1か月に平均2回外食する人が5回外食する確率"
   ]
  },
  {
   "cell_type": "code",
   "execution_count": 43,
   "metadata": {},
   "outputs": [
    {
     "name": "stdout",
     "output_type": "stream",
     "text": [
      "3.61%\n"
     ]
    }
   ],
   "source": [
    "# 期待値λ\n",
    "mu = 2\n",
    "\n",
    "# 回数k\n",
    "k = 5\n",
    "\n",
    "print(f'{poisson.pmf(k, mu):.2%}')"
   ]
  },
  {
   "cell_type": "markdown",
   "metadata": {},
   "source": [
    "#### パーセント点関数（percent point function, PPF）\n",
    "\n",
    "e.g. 1か月に平均2回外食する人の母平均 $\\mu$ の95%信頼区間を求める"
   ]
  },
  {
   "cell_type": "code",
   "execution_count": 40,
   "metadata": {},
   "outputs": [
    {
     "name": "stdout",
     "output_type": "stream",
     "text": [
      "0 <= μ <= 5\n"
     ]
    }
   ],
   "source": [
    "print(f'{poisson.ppf(0.025, mu):.0f} <= μ <= {poisson.ppf(0.975 , mu):.0f}')"
   ]
  },
  {
   "cell_type": "markdown",
   "metadata": {},
   "source": [
    "#### 累積分布関数（cumulative density function, CDF）\n",
    "\n",
    "e.g. 1か月に平均2回外食する人が0〜3回外食する確率"
   ]
  },
  {
   "cell_type": "code",
   "execution_count": 46,
   "metadata": {},
   "outputs": [
    {
     "name": "stdout",
     "output_type": "stream",
     "text": [
      "85.71%\n"
     ]
    }
   ],
   "source": [
    "mu = 2\n",
    "k = 3\n",
    "print(f'{poisson.cdf(k, mu):.2%}')"
   ]
  },
  {
   "cell_type": "markdown",
   "metadata": {},
   "source": [
    "#### 生存関数（survival function, SF）\n",
    "e.g. 1か月に平均2回外食する人が3回より多く外食する確率"
   ]
  },
  {
   "cell_type": "code",
   "execution_count": 61,
   "metadata": {},
   "outputs": [
    {
     "name": "stdout",
     "output_type": "stream",
     "text": [
      "14.29%\n"
     ]
    }
   ],
   "source": [
    "mu = 2\n",
    "k = 3\n",
    "print(f'{poisson.sf(k, mu):.2%}')"
   ]
  },
  {
   "cell_type": "markdown",
   "metadata": {},
   "source": [
    "#### ポアソン分布（確率質量関数）の可視化\n",
    "\n",
    "e.g. 1か月に平均2回外食する人のポアソン分布をプロットする"
   ]
  },
  {
   "cell_type": "code",
   "execution_count": 69,
   "metadata": {},
   "outputs": [
    {
     "data": {
      "text/plain": [
       "[Text(0, 0.5, 'probability'), Text(0.5, 0, 'k'), Text(0.5, 1.0, 'Poisson PMF')]"
      ]
     },
     "execution_count": 69,
     "metadata": {},
     "output_type": "execute_result"
    },
    {
     "data": {
      "image/png": "[encoded data removed]",
      "text/plain": [
       "<Figure size 500x500 with 1 Axes>"
      ]
     },
     "metadata": {
      "needs_background": "light"
     },
     "output_type": "display_data"
    }
   ],
   "source": [
    "mu = 2\n",
    "k = np.arange(poisson.ppf(0.01, mu), poisson.ppf(0.99, mu))\n",
    "\n",
    "fig, ax = plt.subplots(figsize=(5, 5), dpi=100)\n",
    "ax.vlines(k, 0, poisson.pmf(k, mu), colors='#0EA89B')\n",
    "ax.set(title='Poisson PMF', xlabel='k', ylabel='probability')"
   ]
  }
 ],
 "metadata": {
  "kernelspec": {
   "display_name": "Python 3",
   "language": "python",
   "name": "python3"
  },
  "language_info": {
   "codemirror_mode": {
    "name": "ipython",
    "version": 3
   },
   "file_extension": ".py",
   "mimetype": "text/x-python",
   "name": "python",
   "nbconvert_exporter": "python",
   "pygments_lexer": "ipython3",
   "version": "3.8.3"
  },
  "toc": {
   "base_numbering": 1,
   "nav_menu": {},
   "number_sections": true,
   "sideBar": true,
   "skip_h1_title": false,
   "title_cell": "Table of Contents",
   "title_sidebar": "Contents",
   "toc_cell": false,
   "toc_position": {},
   "toc_section_display": true,
   "toc_window_display": true
  }
 },
 "nbformat": 4,
 "nbformat_minor": 4
}
