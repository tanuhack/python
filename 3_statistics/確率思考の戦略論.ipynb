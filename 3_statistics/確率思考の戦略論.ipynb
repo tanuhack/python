{
 "cells": [
  {
   "cell_type": "markdown",
   "metadata": {},
   "source": [
    "## NBDモデル（r回出る確率＝市場の構造を調べる）\n",
    "\n",
    "$$\n",
    "P_r = \\frac{(1+\\frac{M}{K})^{-K}\\bullet\\Gamma(K+r)}{\\Gamma(r+1)\\bullet\\Gamma(K)}\\bullet(\\frac{M}{M+K})^r\n",
    "$$"
   ]
  },
  {
   "cell_type": "markdown",
   "metadata": {},
   "source": [
    "### 概要"
   ]
  },
  {
   "cell_type": "markdown",
   "metadata": {},
   "source": [
    "- e.g. 英国5240世帯の1973年1〜3月の購入記録によると、56％が歯磨き粉を購入し、その平均回数は2.6回でした。\n",
    "\n",
    "① プレファレンス $M$ の計算\n",
    "\n",
    "$$\n",
    "M = \\frac{5240 \\times 0.56 \\times  2.6}{5240} = 1.4560000000000002 \\fallingdotseq 1.46\n",
    "$$\n",
    "\n",
    "\n",
    "② 分布のパラメーター $K$ の計算\n",
    "\n",
    "- 購入回数0回の確率を考える\n",
    "\n",
    "$$\n",
    "P_0 = \\frac{(1+\\frac{M}{K})^{-K}\\bullet\\Gamma(K)}{0!\\bullet\\Gamma(K)}\\bullet(\\frac{M}{M+K})^0 = (1+\\frac{M}{K})^{-K} \\\\\n",
    "0.44 = (1+\\frac{1.46}{K})^{-K}\n",
    "$$\n",
    "\n",
    "- $K$ についての方程式を解く\n",
    "\n",
    "$$\n",
    "K = 0.7753748445836229 \\fallingdotseq 0.78\n",
    "$$\n",
    "\n",
    "\n",
    "\n",
    "③ それぞれの購入回数ごとの確率を計算する\n",
    "\n",
    "購入回数 | 確率\n",
    ":-- | :--\n",
    "0 | `0.44`\n",
    "1 | `0.22`\n",
    "2 | `0.13`\n",
    "3 | `0.08`\n",
    "4 | `0.05`\n",
    "5 | `0.03`\n",
    "6回以上 | `0.05`"
   ]
  },
  {
   "cell_type": "markdown",
   "metadata": {},
   "source": [
    "### Pythonで実装"
   ]
  },
  {
   "cell_type": "code",
   "execution_count": 14,
   "metadata": {},
   "outputs": [
    {
     "name": "stdout",
     "output_type": "stream",
     "text": [
      "1.4560000000000002\n",
      "0.7788158827707685\n",
      "[0.44, 0.22, 0.13, 0.08, 0.05, 0.03]\n"
     ]
    },
    {
     "name": "stderr",
     "output_type": "stream",
     "text": [
      "<ipython-input-14-aa49b7b372b4>:14: RuntimeWarning: divide by zero encountered in true_divide\n",
      "  K = fsolve(lambda k: (1 + M / k)**(-k) - (1 - p), 0)[0]\n"
     ]
    }
   ],
   "source": [
    "import numpy as np\n",
    "from scipy.optimize import fsolve\n",
    "from scipy.special import gamma\n",
    "\n",
    "n = 5240  # アンケートの母数\n",
    "p = 0.56  # 購入率(成功確率)\n",
    "mu = 2.6  # 平均購入回数\n",
    "\n",
    "# プレファレンス(総購入回数/総利用者数)\n",
    "M = (n * p * mu) / n\n",
    "\n",
    "# 分布のパラメーター\n",
    "K = fsolve(lambda k: (1 + M / k)**(-k) - (1 - p), 0)[0]\n",
    "\n",
    "\n",
    "# NBDモデル\n",
    "def NBDmodel(r):\n",
    "    return ((((1 + M / K)**(-K)) * gamma(K + r)) / (gamma(r + 1) * gamma(K))) * (M / (M + K))**r\n",
    "\n",
    "print([np.round(NBDmodel(r), 2) for r in range(0, 6)])"
   ]
  },
  {
   "cell_type": "code",
   "execution_count": 25,
   "metadata": {},
   "outputs": [
    {
     "name": "stdout",
     "output_type": "stream",
     "text": [
      "[0.982, 0.01425524, 0.00276023, 0.00069926, 0.00019802, 5.962e-05]\n"
     ]
    },
    {
     "name": "stderr",
     "output_type": "stream",
     "text": [
      "<ipython-input-25-a80470710469>:13: RuntimeWarning: divide by zero encountered in true_divide\n",
      "  K = fsolve(lambda k: (1 + M / k)**(-k) - (1 - p), 0)[0]\n"
     ]
    }
   ],
   "source": [
    "import numpy as np\n",
    "from scipy.optimize import fsolve\n",
    "from scipy.special import gamma\n",
    "\n",
    "n = 5000  # レジ5000回\n",
    "p = 90/n  # 豆(100g)の販売割合\n",
    "mu = 90/70  # 平均購入回数\n",
    "\n",
    "# プレファレンス(総購入回数/総利用者数)\n",
    "M = (n * p * mu) / n\n",
    "\n",
    "# 分布のパラメーター\n",
    "K = fsolve(lambda k: (1 + M / k)**(-k) - (1 - p), 0)[0]\n",
    "\n",
    "\n",
    "# NBDモデル\n",
    "def NBDmodel(r):\n",
    "    return ((((1 + M / K)**(-K)) * gamma(K + r)) / (gamma(r + 1) * gamma(K))) * (M / (M + K))**r\n",
    "\n",
    "print([np.round(NBDmodel(r), 8) for r in range(0, 6)])"
   ]
  },
  {
   "cell_type": "code",
   "execution_count": 24,
   "metadata": {},
   "outputs": [
    {
     "data": {
      "text/plain": [
       "0.9901"
      ]
     },
     "execution_count": 24,
     "metadata": {},
     "output_type": "execute_result"
    }
   ],
   "source": [
    "5000*0.00019802"
   ]
  },
  {
   "cell_type": "code",
   "execution_count": null,
   "metadata": {},
   "outputs": [],
   "source": []
  }
 ],
 "metadata": {
  "kernelspec": {
   "display_name": "Python 3",
   "language": "python",
   "name": "python3"
  },
  "language_info": {
   "codemirror_mode": {
    "name": "ipython",
    "version": 3
   },
   "file_extension": ".py",
   "mimetype": "text/x-python",
   "name": "python",
   "nbconvert_exporter": "python",
   "pygments_lexer": "ipython3",
   "version": "3.8.3"
  },
  "toc": {
   "base_numbering": 1,
   "nav_menu": {},
   "number_sections": true,
   "sideBar": true,
   "skip_h1_title": false,
   "title_cell": "Table of Contents",
   "title_sidebar": "Contents",
   "toc_cell": false,
   "toc_position": {},
   "toc_section_display": true,
   "toc_window_display": true
  }
 },
 "nbformat": 4,
 "nbformat_minor": 4
}
