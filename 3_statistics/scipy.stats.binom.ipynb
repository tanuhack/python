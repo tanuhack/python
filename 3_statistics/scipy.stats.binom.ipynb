{
 "cells": [
  {
   "cell_type": "markdown",
   "metadata": {},
   "source": [
    "二項分布：ベルヌーイ試行において、成功率 $ p $ で試行数 $ N $ 回中に $ k $ 回成功する確率\n",
    "https://docs.scipy.org/doc/scipy/reference/generated/scipy.stats.binom.html"
   ]
  },
  {
   "cell_type": "markdown",
   "metadata": {},
   "source": [
    "## モジュールのインストール"
   ]
  },
  {
   "cell_type": "markdown",
   "metadata": {},
   "source": [
    "```zsh\n",
    "% pip install numpy\n",
    "% pip install scipy\n",
    "% pip install matplotlib\n",
    "```"
   ]
  },
  {
   "cell_type": "markdown",
   "metadata": {},
   "source": [
    "## 基本"
   ]
  },
  {
   "cell_type": "markdown",
   "metadata": {},
   "source": [
    "### モジュールのインポート"
   ]
  },
  {
   "cell_type": "code",
   "execution_count": 1,
   "metadata": {},
   "outputs": [],
   "source": [
    "import numpy as np\n",
    "from scipy.stats import binom\n",
    "import matplotlib as mpl\n",
    "import matplotlib.pyplot as plt\n",
    "\n",
    "# Jupyter Notebookに描画する\n",
    "%matplotlib inline"
   ]
  },
  {
   "cell_type": "markdown",
   "metadata": {},
   "source": [
    "### 試行回数と成功確率をセット"
   ]
  },
  {
   "cell_type": "markdown",
   "metadata": {},
   "source": [
    "- 期待値：$ E = Np $\n",
    "- 標準偏差：$ \\sigma = \\sqrt{Np(1-p)} $"
   ]
  },
  {
   "cell_type": "code",
   "execution_count": 2,
   "metadata": {},
   "outputs": [
    {
     "name": "stdout",
     "output_type": "stream",
     "text": [
      "成功する確率(期待値)は、166.67\n",
      "二項分布の標準偏差は、11.79\n"
     ]
    }
   ],
   "source": [
    "# 試行回数N\n",
    "N = 1000\n",
    "\n",
    "# 成功率p\n",
    "p = 1/6\n",
    "\n",
    "# 成功回数k\n",
    "k = np.arange(N+1) # 0~N\n",
    "\n",
    "print(f'成功する確率(期待値)は、{N*p:.2f}')\n",
    "print(f'二項分布の標準偏差は、{np.sqrt(N*p*(1-p)):.2f}')"
   ]
  },
  {
   "cell_type": "markdown",
   "metadata": {},
   "source": [
    "### 二項分布をプロット"
   ]
  },
  {
   "cell_type": "code",
   "execution_count": 3,
   "metadata": {},
   "outputs": [
    {
     "data": {
      "text/plain": [
       "<matplotlib.collections.LineCollection at 0x7f98a06f1d30>"
      ]
     },
     "execution_count": 3,
     "metadata": {},
     "output_type": "execute_result"
    },
    {
     "data": {
      "image/png": "[encoded data removed]",
      "text/plain": [
       "<Figure size 500x500 with 1 Axes>"
      ]
     },
     "metadata": {},
     "output_type": "display_data"
    }
   ],
   "source": [
    "mpl.style.use(style='fivethirtyeight')\n",
    "\n",
    "fig, ax = plt.subplots(figsize=(5, 5), dpi=100)\n",
    "ax.vlines(k, 0, binom.pmf(k, N, p))"
   ]
  },
  {
   "cell_type": "markdown",
   "metadata": {},
   "source": [
    "## 応用"
   ]
  },
  {
   "cell_type": "markdown",
   "metadata": {},
   "source": [
    "### 母平均μの95%信頼区間(0.025〜0.975)を確認する"
   ]
  },
  {
   "cell_type": "code",
   "execution_count": 4,
   "metadata": {},
   "outputs": [
    {
     "name": "stdout",
     "output_type": "stream",
     "text": [
      "試行回数1,000、成功率16.67%においての母平均μの95%信頼区間は、144.00≦μ≦190.00\n"
     ]
    }
   ],
   "source": [
    "# 両側5%\n",
    "two_side_bottom, two_side_up = binom.interval(alpha=0.95, n=N, p=p)\n",
    "\n",
    "print(f'試行回数{N:,}、成功率{p:.2%}においての母平均μの95%信頼区間は、{two_side_bottom:.2f}≦μ≦{two_side_up:.2f}')"
   ]
  },
  {
   "cell_type": "markdown",
   "metadata": {},
   "source": [
    "### 成功率pの95%信頼区間(0.025〜0.975)を確認する"
   ]
  },
  {
   "cell_type": "code",
   "execution_count": 5,
   "metadata": {},
   "outputs": [
    {
     "name": "stdout",
     "output_type": "stream",
     "text": [
      "試行回数1,000においての成功率p(16.67%)の95%信頼区間は、14.40%≦μ≦19.00%\n",
      "成功率pの幅：4.60%\n"
     ]
    }
   ],
   "source": [
    "# 両側5%\n",
    "two_side_bottom, two_side_up = binom.interval(alpha=0.95, n=N, p=p)\n",
    "\n",
    "print(f'試行回数{N:,}においての成功率p({p:.2%})の95%信頼区間は、{two_side_bottom/N:.2%}≦μ≦{two_side_up/N:.2%}')\n",
    "print(f'成功率pの幅：{(two_side_up-two_side_bottom)/N:.2%}')"
   ]
  },
  {
   "cell_type": "markdown",
   "metadata": {},
   "source": [
    "### 二項検定をする"
   ]
  },
  {
   "cell_type": "markdown",
   "metadata": {},
   "source": [
    "#### 下側検定"
   ]
  },
  {
   "cell_type": "code",
   "execution_count": 6,
   "metadata": {},
   "outputs": [
    {
     "name": "stdout",
     "output_type": "stream",
     "text": [
      "検定する値が147.0より小さいかどうかを見る。\n"
     ]
    }
   ],
   "source": [
    "# 下側5%\n",
    "one_side_bottom = binom.ppf(q=0.05, n=N, p=p)\n",
    "\n",
    "print(f'検定する値が{one_side_bottom}より小さいかどうかを見る。')"
   ]
  },
  {
   "cell_type": "markdown",
   "metadata": {},
   "source": [
    "#### 上側検定"
   ]
  },
  {
   "cell_type": "code",
   "execution_count": 7,
   "metadata": {},
   "outputs": [
    {
     "name": "stdout",
     "output_type": "stream",
     "text": [
      "検定する値が186.0より大きいかどうかを見る。\n"
     ]
    }
   ],
   "source": [
    "# 上側5%\n",
    "one_side_up = binom.ppf(q=0.95, n=N, p=p)\n",
    "print(f'検定する値が{one_side_up}より大きいかどうかを見る。')"
   ]
  }
 ],
 "metadata": {
  "kernelspec": {
   "display_name": "Python 3",
   "language": "python",
   "name": "python3"
  },
  "language_info": {
   "codemirror_mode": {
    "name": "ipython",
    "version": 3
   },
   "file_extension": ".py",
   "mimetype": "text/x-python",
   "name": "python",
   "nbconvert_exporter": "python",
   "pygments_lexer": "ipython3",
   "version": "3.8.3"
  },
  "toc": {
   "base_numbering": 1,
   "nav_menu": {},
   "number_sections": true,
   "sideBar": true,
   "skip_h1_title": false,
   "title_cell": "Table of Contents",
   "title_sidebar": "Contents",
   "toc_cell": false,
   "toc_position": {},
   "toc_section_display": true,
   "toc_window_display": true
  }
 },
 "nbformat": 4,
 "nbformat_minor": 2
}
