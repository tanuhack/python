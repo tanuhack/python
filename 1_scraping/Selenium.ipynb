{
 "cells": [
  {
   "cell_type": "markdown",
   "metadata": {},
   "source": [
    "## モジュールのインストール"
   ]
  },
  {
   "cell_type": "markdown",
   "metadata": {},
   "source": [
    "```zsh\n",
    "% pip install selenium\n",
    "```"
   ]
  },
  {
   "cell_type": "markdown",
   "metadata": {},
   "source": [
    "## 基本"
   ]
  },
  {
   "cell_type": "markdown",
   "metadata": {},
   "source": [
    "### Chromeドライバーの起動"
   ]
  },
  {
   "cell_type": "markdown",
   "metadata": {},
   "source": [
    "```python\n",
    "from selenium import webdriver\n",
    "from selenium.webdriver.chrome.options import Options\n",
    "from selenium.webdriver.support.select import Select\n",
    "from selenium.webdriver.common.by import By\n",
    "from selenium.webdriver.common.keys import Keys\n",
    "from selenium.webdriver.common.alert import Alert\n",
    "from selenium.webdriver.support.ui import WebDriverWait\n",
    "from selenium.webdriver.support import expected_conditions as EC\n",
    "from selenium.common.exceptions import TimeoutException\n",
    "\n",
    "# Chromeドライバーのオプション\n",
    "options = Options()\n",
    "options.add_argument('--disable-gpu');\n",
    "options.add_argument('--disable-extensions');\n",
    "options.add_argument('--proxy-server=\"direct://\"');\n",
    "options.add_argument('--proxy-bypass-list=*');\n",
    "options.add_argument('--start-maximized');\n",
    "options.add_argument('--headless'); # ヘッドレスモードON\n",
    "\n",
    "# Chromeドライバーを起動\n",
    "driver = webdriver.Chrome(executable_path='Chromeドライバーのパス', options=options)\n",
    "```"
   ]
  },
  {
   "cell_type": "markdown",
   "metadata": {},
   "source": [
    "### Webページにアクセス"
   ]
  },
  {
   "cell_type": "markdown",
   "metadata": {},
   "source": [
    "```python\n",
    "# Webページにアクセスする\n",
    "driver.get('URL')\n",
    "```"
   ]
  },
  {
   "cell_type": "markdown",
   "metadata": {},
   "source": [
    "### ページ全体の操作"
   ]
  },
  {
   "cell_type": "markdown",
   "metadata": {},
   "source": [
    "逆引き | コマンド | 戻り値\n",
    ":-- | :-- | :--\n",
    "ページのタイトルを取得する | `driver.title` | `str`\n",
    "ページのURLを取得する | `driver.current_url` | `str`\n",
    "ソースコードを取得する | `driver.page_source` | `str`\n",
    "スクリーンショットを撮る | `driver.save_screenshot('保存先のパス')` | \n",
    "ブラウザバック | `driver.back()` | \n",
    "ブラウザバックの取り消し | `driver.forward()` | \n",
    "ページをリロードする | `driver.refresh()` | \n",
    "ウィンドウハンドルの一覧を取得する | `driver.window_handles` | `list`\n",
    "操作するウィンドウを切り替える | `driver.switch_to.window('ウィンドウハンドル')` | \n",
    "Cookieをセットする | `driver.add_cookie({'name': 'Cookieの名前', 'value': 'Cookieの値'})` | \n",
    "ページを閉じる | `driver.close()` | \n",
    "ブラウザを終了する | `driver.quit()` | "
   ]
  },
  {
   "cell_type": "markdown",
   "metadata": {},
   "source": [
    "### 要素の指定"
   ]
  },
  {
   "cell_type": "markdown",
   "metadata": {},
   "source": [
    "```python\n",
    "# id属性\n",
    "element = driver.find_element_by_id('id')\n",
    "\n",
    "# name属性\n",
    "element = driver.find_element_by_name('name')\n",
    "\n",
    "# CSSセレクタ\n",
    "element = driver.find_element_by_css_selector('CSSセレクタ')\n",
    "```"
   ]
  },
  {
   "cell_type": "markdown",
   "metadata": {},
   "source": [
    "### 要素の操作"
   ]
  },
  {
   "cell_type": "markdown",
   "metadata": {},
   "source": [
    "逆引き | コマンド | 戻り値\n",
    ":-- | :-- | :--\n",
    "テキストを取得する | `element.text` | `str`\n",
    "属性の値を取得する | `element.get_attribute('属性名')` | `str`\n",
    "テキストを入力する | `element.send_keys('テキスト')` | \n",
    "テキストを削除する① | `element.clear()` | \n",
    "テキストを削除する② | `[element.send_keys(Keys.BACK_SPACE) for _ in range(len(element.text))]` | \n",
    "要素をクリックする① | `element.click()` | \n",
    "要素をクリックする② | `driver.execute_script('arguments[0].click();', element)` | \n",
    "特殊キーを押す(ENTERキー) | `element.send_keys(Keys.ENTER)` | \n",
    "特殊キーを押す(BACKSPACEキー) | `element.send_keys(Keys.BACK_SPACE)` | \n",
    "特殊キーを押す(ESCAPEキー) | `element.send_keys(Keys.ESCAPE)` | \n",
    "特殊キーを押す(TABキー) | `element.send_keys(Keys.TAB)` | \n",
    "要素のx座標を取得 | `element.location['x']` | `int`\n",
    "要素のy座標を取得 | `element.location['y']` | `int`"
   ]
  },
  {
   "cell_type": "markdown",
   "metadata": {},
   "source": [
    "### その他の操作"
   ]
  },
  {
   "cell_type": "markdown",
   "metadata": {},
   "source": [
    "#### 待機処理"
   ]
  },
  {
   "cell_type": "markdown",
   "metadata": {},
   "source": [
    "##### 暗黙的な待機"
   ]
  },
  {
   "cell_type": "markdown",
   "metadata": {},
   "source": [
    "全ての`find_element`等の処理時に、要素が見つかるまで指定した最大時間待機させるようにすることができます。\n",
    "\n",
    "```python\n",
    "# 暗黙的な待機\n",
    "driver.implicitly_wait(10) # 秒\n",
    "```"
   ]
  },
  {
   "cell_type": "markdown",
   "metadata": {},
   "source": [
    "##### 明示的な待機"
   ]
  },
  {
   "cell_type": "markdown",
   "metadata": {},
   "source": [
    "任意のHTML要素が**特定の状態**になるまで待つ明示的な待機時間を設定することができます。\n",
    "\n",
    "コマンド | 状態\n",
    ":-- | :--\n",
    "`alert_is_present` | Alertが表示されるまで待機\n",
    "`element_to_be_clickable` | 要素がクリック出来る状態になるまで待機\n",
    "`visibility_of_element_located` | 指定した要素が表示されるまで待機\n",
    "`invisibility_of_element_located` | 指定した要素が非表示になるまで待機\n",
    "`text_to_be_present_in_element` | 指定したテキストが表示されるまで待機\n",
    "`presence_of_element_located` | 指定した要素がDOM上に現れるまで待機\n",
    "\n",
    "```python\n",
    "# 指定した要素が表示されるまで、30秒待機する\n",
    "element = WebDriverWait(driver, 30).until(\n",
    "\tEC.visibility_of_element_located((By.CSS_SELECTOR, 'CSSセレクタ'))\n",
    ")\n",
    "```"
   ]
  },
  {
   "cell_type": "markdown",
   "metadata": {},
   "source": [
    "##### 最終手段"
   ]
  },
  {
   "cell_type": "markdown",
   "metadata": {},
   "source": [
    "```python\n",
    "import time\n",
    "\n",
    "time.sleep(30) # 秒\n",
    "```"
   ]
  },
  {
   "cell_type": "markdown",
   "metadata": {},
   "source": [
    "#### JavaScriptのDOM操作"
   ]
  },
  {
   "cell_type": "markdown",
   "metadata": {},
   "source": [
    "逆引き | コマンド | 戻り値\n",
    ":-- | :-- | :--\n",
    "ページの幅を取得 | `driver.execute_script('return document.body.scrollWidth')` | `int`\n",
    "ページの高さを取得 | `driver.execute_script('return document.body.scrollHeight')` | `int`\n",
    "ページトップから垂直方向にスクロールする | `driver.execute_script('window.scrollTo(0, ピクセル);')` | \n",
    "ページトップから一番下までスクロールする（Ajax非対応）| `driver.execute_script('window.scrollTo(0, document.body.scrollHeight);')` | \n",
    "相対位置に垂直方向にスクロールする | `driver.execute_script('window.scrollBy(0, ピクセル);')` | \n",
    "ページトップからの垂直方向のスクロール量を取得する | `driver.execute_script('return window.pageYOffset')` | `int`\n",
    "要素をクリックする | `driver.execute_script('arguments[0].click();', element)` | \n",
    "`display: none;`で隠された要素を表示する | `driver.execute_script('arguments[0].style.display=\"\";', element)` | "
   ]
  },
  {
   "cell_type": "markdown",
   "metadata": {},
   "source": [
    "## 応用"
   ]
  },
  {
   "cell_type": "markdown",
   "metadata": {},
   "source": [
    "### BeautifulSoup × Selenium"
   ]
  },
  {
   "cell_type": "markdown",
   "metadata": {},
   "source": [
    "```python\n",
    "from bs4 import BeautifulSoup\n",
    "\n",
    "# \n",
    "# 中略 \n",
    "#\n",
    "\n",
    "# ソースコードを取得\n",
    "html = driver.page_source\n",
    "\n",
    "# HTMLをパースする\n",
    "soup = BeautifulSoup(html, 'lxml')\n",
    "```"
   ]
  },
  {
   "cell_type": "markdown",
   "metadata": {},
   "source": [
    "### Ajaxページを一番下までゆっくりスクロールする"
   ]
  },
  {
   "cell_type": "markdown",
   "metadata": {},
   "source": [
    "```python\n",
    "\n",
    "# ページの高さを取得\n",
    "height = driver.execute_script('return document.body.scrollHeight')\n",
    "\n",
    "# ループ処理で少しづつスクロール移動し、Ajaxページの一番下までゆっくりスクロールする\n",
    "i = 1\n",
    "while i < height:\n",
    "    driver.execute_script(f'window.scrollTo(0, {i});')\n",
    "    height = driver.execute_script('return document.body.scrollHeight')\n",
    "    i += 1\n",
    "```"
   ]
  },
  {
   "cell_type": "markdown",
   "metadata": {},
   "source": [
    "### ファイルの保存場所を変更する"
   ]
  },
  {
   "cell_type": "markdown",
   "metadata": {},
   "source": [
    "```python\n",
    "# ファイルのデフォルトの保存先を変更する\n",
    "driver.command_executor._commands['send_command'] = (\n",
    "    'POST',\n",
    "    '/session/$sessionId/chromium/send_command'\n",
    ")\n",
    "params = {\n",
    "    'cmd': 'Page.setDownloadBehavior',\n",
    "    'params': {\n",
    "        'behavior': 'allow',\n",
    "        'downloadPath': '保存先のディレクトリ'\n",
    "    }\n",
    "}\n",
    "driver.execute('send_command', params=params)\n",
    "```"
   ]
  },
  {
   "cell_type": "markdown",
   "metadata": {},
   "source": [
    "### BASIC認証を突破する"
   ]
  },
  {
   "cell_type": "markdown",
   "metadata": {},
   "source": [
    "```python\n",
    "# BASIC認証のID、PWとURLをセットする\n",
    "ID = 'id'\n",
    "PW = 'password'\n",
    "URL = 'url'\n",
    "\n",
    "# BASIC認証を突破する\n",
    "driver.get(f'{ID}:{PW}@{URL}')\n",
    "```"
   ]
  },
  {
   "cell_type": "markdown",
   "metadata": {},
   "source": [
    "### 2段階認証を突破する"
   ]
  },
  {
   "cell_type": "markdown",
   "metadata": {},
   "source": [
    "[Python+Seleniumで2段階認証（6桁のパスコード）を突破する全手順](https://tanuhack.com/selenium-2step-authentication/)"
   ]
  },
  {
   "cell_type": "markdown",
   "metadata": {},
   "source": [
    "### reCAPTCHAを突破する"
   ]
  },
  {
   "cell_type": "markdown",
   "metadata": {},
   "source": [
    "[Python+Seleniumで『reCAPTCHA』を突破する方法](https://tanuhack.com/pr-2captcha/)"
   ]
  }
 ],
 "metadata": {
  "kernelspec": {
   "display_name": "Python 3",
   "language": "python",
   "name": "python3"
  },
  "language_info": {
   "codemirror_mode": {
    "name": "ipython",
    "version": 3
   },
   "file_extension": ".py",
   "mimetype": "text/x-python",
   "name": "python",
   "nbconvert_exporter": "python",
   "pygments_lexer": "ipython3",
   "version": "3.8.3"
  },
  "toc": {
   "base_numbering": 1,
   "nav_menu": {},
   "number_sections": true,
   "sideBar": true,
   "skip_h1_title": false,
   "title_cell": "Table of Contents",
   "title_sidebar": "Contents",
   "toc_cell": false,
   "toc_position": {
    "height": "calc(100% - 180px)",
    "left": "10px",
    "top": "150px",
    "width": "384px"
   },
   "toc_section_display": true,
   "toc_window_display": true
  }
 },
 "nbformat": 4,
 "nbformat_minor": 4
}
