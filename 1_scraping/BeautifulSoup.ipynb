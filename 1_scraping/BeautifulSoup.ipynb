{
 "cells": [
  {
   "cell_type": "markdown",
   "metadata": {},
   "source": [
    "## モジュールのインストール"
   ]
  },
  {
   "cell_type": "markdown",
   "metadata": {},
   "source": [
    "```zsh\n",
    "% pip install requests\n",
    "% pip install beautifulsoup4\n",
    "% pip install lxml\n",
    "```"
   ]
  },
  {
   "cell_type": "markdown",
   "metadata": {},
   "source": [
    "## 基本"
   ]
  },
  {
   "cell_type": "markdown",
   "metadata": {},
   "source": [
    "### HTMLを取得する"
   ]
  },
  {
   "cell_type": "markdown",
   "metadata": {},
   "source": [
    "```python\n",
    "import requests\n",
    "from bs4 import BeautifulSoup\n",
    "\n",
    "url = 'スクレイピングするURL'\n",
    "r = requests.get(url)\n",
    "soup = BeautifulSoup(r.content, 'lxml')\n",
    "```"
   ]
  },
  {
   "cell_type": "markdown",
   "metadata": {},
   "source": [
    "### テキストを取得する"
   ]
  },
  {
   "cell_type": "markdown",
   "metadata": {},
   "source": [
    "```python\n",
    "texts = [i.get_text() for i in soup.select('CSSセレクタ')]\n",
    "```"
   ]
  },
  {
   "cell_type": "markdown",
   "metadata": {},
   "source": [
    "### 属性の値を取得する"
   ]
  },
  {
   "cell_type": "markdown",
   "metadata": {},
   "source": [
    "```python\n",
    "attrs = [i.get('属性') for i in soup.select('CSSセレクタ')]\n",
    "```"
   ]
  },
  {
   "cell_type": "markdown",
   "metadata": {},
   "source": [
    "## 応用"
   ]
  },
  {
   "cell_type": "markdown",
   "metadata": {},
   "source": [
    "### 画像を保存する"
   ]
  },
  {
   "cell_type": "markdown",
   "metadata": {},
   "source": [
    "```python\n",
    "import requests\n",
    "from bs4 import BeautifulSoup\n",
    "from pathlib import Path\n",
    "\n",
    "url = 'スクレイピングするURL'\n",
    "r = requests.get(url)\n",
    "soup = BeautifulSoup(r.content, 'lxml')\n",
    "\n",
    "# 画像URLのリストを作成\n",
    "image_urls = [i.get('src') for i in soup.select('CSSセレクタ')]\n",
    "\n",
    "# 画像を保存するフォルダを作成\n",
    "Path('images').mkdir(exist_ok=True)\n",
    "\n",
    "# 画像URLから1つずつ画像を作成\n",
    "for target in image_urls:\n",
    "    r = requests.get(target)\n",
    "    p = Path('images') / target.split('/')[-1]\n",
    "    with p.open(mode='wb') as f:\n",
    "        f.write(r.content)\n",
    "```"
   ]
  },
  {
   "cell_type": "markdown",
   "metadata": {},
   "source": [
    "### 動的なページのスクレイピング"
   ]
  },
  {
   "cell_type": "markdown",
   "metadata": {},
   "source": [
    "```zsh\n",
    "% pip install selenium\n",
    "```"
   ]
  },
  {
   "cell_type": "markdown",
   "metadata": {},
   "source": [
    "```python\n",
    "from selenium import webdriver\n",
    "from selenium.webdriver.chrome.options import Options\n",
    "from bs4 import BeautifulSoup\n",
    "\n",
    "driver_path = 'Chromeドライバーのパス'\n",
    "\n",
    "# Chromeドライバーのオプション\n",
    "options = Options()\n",
    "options.add_argument('--disable-gpu')\n",
    "options.add_argument('--disable-extensions')\n",
    "options.add_argument('--proxy-server=\"direct://\"')\n",
    "options.add_argument('--proxy-bypass-list=*')\n",
    "options.add_argument('--start-maximized')\n",
    "options.add_argument('--headless')\n",
    "\n",
    "# Chromeドライバーを起動\n",
    "driver = webdriver.Chrome(executable_path=driver_path, options=options)\n",
    "driver.get('スクレイピングするURL')\n",
    "\n",
    "# ソースコードを取得\n",
    "html = driver.page_source\n",
    "driver.quit()\n",
    "\n",
    "# htmlファイルを取得\n",
    "soup = BeautifulSoup(html, 'lxml')\n",
    "```"
   ]
  },
  {
   "cell_type": "markdown",
   "metadata": {},
   "source": [
    "### Ajaxページのスクレイピング"
   ]
  },
  {
   "cell_type": "markdown",
   "metadata": {},
   "source": [
    "```zsh\n",
    "% pip install selenium\n",
    "```"
   ]
  },
  {
   "cell_type": "markdown",
   "metadata": {},
   "source": [
    "```python\n",
    "from selenium import webdriver\n",
    "from selenium.webdriver.chrome.options import Options\n",
    "from selenium.webdriver.common.keys import Keys\n",
    "from bs4 import BeautifulSoup\n",
    "\n",
    "driver_path = 'Chromeドライバーのパス'\n",
    "\n",
    "# Chromeドライバーのオプション\n",
    "options = Options()\n",
    "options.add_argument('--disable-gpu')\n",
    "options.add_argument('--disable-extensions')\n",
    "options.add_argument('--proxy-server=\"direct://\"')\n",
    "options.add_argument('--proxy-bypass-list=*')\n",
    "options.add_argument('--start-maximized')\n",
    "options.add_argument('--headless')\n",
    "\n",
    "# Chromeドライバーを起動\n",
    "driver = webdriver.Chrome(executable_path=driver_path, options=options)\n",
    "driver.get('スクレイピングするURL')\n",
    "\n",
    "# ページの高さを取得\n",
    "height = driver.execute_script('return document.body.scrollHeight')\n",
    "    \n",
    "# ループ処理で少しづつスクロール移動し、Ajaxページの読み込みに対応する    \n",
    "idx = 1\n",
    "while idx < height:\n",
    "    driver.execute_script(f'window.scrollTo(0, {idx});')\n",
    "    height = driver.execute_script('return document.body.scrollHeight')\n",
    "    idx += 1\n",
    "    \n",
    "# ソースコードを取得\n",
    "html = driver.page_source\n",
    "driver.quit()\n",
    "\n",
    "# htmlファイルを取得\n",
    "soup = BeautifulSoup(html, 'lxml')\n",
    "```"
   ]
  },
  {
   "cell_type": "code",
   "execution_count": null,
   "metadata": {},
   "outputs": [],
   "source": []
  }
 ],
 "metadata": {
  "kernelspec": {
   "display_name": "Python 3",
   "language": "python",
   "name": "python3"
  },
  "language_info": {
   "codemirror_mode": {
    "name": "ipython",
    "version": 3
   },
   "file_extension": ".py",
   "mimetype": "text/x-python",
   "name": "python",
   "nbconvert_exporter": "python",
   "pygments_lexer": "ipython3",
   "version": "3.8.3"
  },
  "toc": {
   "base_numbering": 1,
   "nav_menu": {},
   "number_sections": true,
   "sideBar": true,
   "skip_h1_title": false,
   "title_cell": "Table of Contents",
   "title_sidebar": "Contents",
   "toc_cell": false,
   "toc_position": {
    "height": "calc(100% - 180px)",
    "left": "10px",
    "top": "150px",
    "width": "384px"
   },
   "toc_section_display": true,
   "toc_window_display": true
  }
 },
 "nbformat": 4,
 "nbformat_minor": 4
}
